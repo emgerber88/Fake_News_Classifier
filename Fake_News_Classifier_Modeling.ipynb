{
 "cells": [
  {
   "cell_type": "code",
   "execution_count": 1,
   "id": "02a8e60d",
   "metadata": {},
   "outputs": [],
   "source": [
    "# Standard Packages\n",
    "import pandas as pd\n",
    "import numpy as np\n",
    "import regex as re\n",
    "import itertools\n",
    "\n",
    "# Viz Packages\n",
    "import seaborn as sns\n",
    "import matplotlib.pyplot as plt\n",
    "from matplotlib.ticker import MaxNLocator\n",
    "\n",
    "# SKLearn Modules\n",
    "from sklearn.preprocessing import StandardScaler\n",
    "from sklearn.metrics import ConfusionMatrixDisplay, classification_report, accuracy_score\n",
    "from sklearn.model_selection import train_test_split, cross_val_score\n",
    "from sklearn.pipeline import Pipeline\n",
    "from sklearn.feature_extraction.text import TfidfVectorizer\n",
    "from sklearn.naive_bayes import MultinomialNB\n",
    "from sklearn.linear_model import LogisticRegression\n",
    "from sklearn.ensemble import RandomForestClassifier\n",
    "from sklearn.svm import LinearSVC\n",
    "\n",
    "# NLTK modules\n",
    "import nltk\n",
    "from nltk import FreqDist, WordNetLemmatizer, pos_tag\n",
    "from nltk.tokenize import RegexpTokenizer\n",
    "from nltk.corpus import stopwords, wordnet\n",
    "\n",
    "# Suppress future, deprecation, and SettingWithCopy warnings\n",
    "import warnings\n",
    "warnings.filterwarnings(\"ignore\", category= FutureWarning)\n",
    "warnings.filterwarnings(\"ignore\", category=DeprecationWarning)\n",
    "pd.options.mode.chained_assignment = None\n",
    "\n",
    "# make all columns in a df viewable and wider\n",
    "pd.options.display.max_columns = None\n",
    "pd.options.display.width = None\n",
    "pd.set_option('max_colwidth', 400)"
   ]
  },
  {
   "cell_type": "markdown",
   "id": "a3259a0f",
   "metadata": {},
   "source": [
    "## Data\n",
    "I used [the ISOT Fake News dataset by Hadeer Ahmed, Issa Traore, and Sherif Saad and disseminated through the Information Security and Object Technology (ISOT) Research Group at the University of Victoria](https://onlineacademiccommunity.uvic.ca/isot/2022/11/27/fake-news-detection-datasets/) to train my model. The dataset includes 21417 real news articles and 23481 fake news articles from 2016 and 2017, and covers a variety of topics including US and world politics and news, along with other current affairs topics. [According to the creators of the dataset](https://onlineacademiccommunity.uvic.ca/isot/wp-content/uploads/sites/7295/2023/02/ISOT_Fake_News_Dataset_ReadMe.pdf): \"This dataset was collected from realworld sources; the truthful articles were obtained by crawling articles from Reuters.com (News website). As for the fake news articles, they were collected from different sources. The fake news\n",
    "articles were collected from unreliable websites that were flagged by Politifact (a fact-checking\n",
    "organization in the USA) and Wikipedia.\" When examining the data, we'll have to see how the source of the truthful and false news articles may impact our approach to cleaning and processing."
   ]
  },
  {
   "cell_type": "code",
   "execution_count": 2,
   "id": "ed379948",
   "metadata": {
    "scrolled": false
   },
   "outputs": [
    {
     "data": {
      "text/html": [
       "<div>\n",
       "<style scoped>\n",
       "    .dataframe tbody tr th:only-of-type {\n",
       "        vertical-align: middle;\n",
       "    }\n",
       "\n",
       "    .dataframe tbody tr th {\n",
       "        vertical-align: top;\n",
       "    }\n",
       "\n",
       "    .dataframe thead th {\n",
       "        text-align: right;\n",
       "    }\n",
       "</style>\n",
       "<table border=\"1\" class=\"dataframe\">\n",
       "  <thead>\n",
       "    <tr style=\"text-align: right;\">\n",
       "      <th></th>\n",
       "      <th>title</th>\n",
       "      <th>text</th>\n",
       "      <th>subject</th>\n",
       "      <th>date</th>\n",
       "      <th>target</th>\n",
       "    </tr>\n",
       "  </thead>\n",
       "  <tbody>\n",
       "    <tr>\n",
       "      <th>0</th>\n",
       "      <td>As U.S. budget fight looms, Republicans flip their fiscal script</td>\n",
       "      <td>WASHINGTON (Reuters) - The head of a conservative Republican faction in the U.S. Congress, who voted this month for a huge expansion of the national debt to pay for tax cuts, called himself a “fiscal conservative” on Sunday and urged budget restraint in 2018. In keeping with a sharp pivot under way among Republicans, U.S. Representative Mark Meadows, speaking on CBS’ “Face the Nation,” drew a ...</td>\n",
       "      <td>politicsNews</td>\n",
       "      <td>December 31, 2017</td>\n",
       "      <td>0</td>\n",
       "    </tr>\n",
       "    <tr>\n",
       "      <th>1</th>\n",
       "      <td>U.S. military to accept transgender recruits on Monday: Pentagon</td>\n",
       "      <td>WASHINGTON (Reuters) - Transgender people will be allowed for the first time to enlist in the U.S. military starting on Monday as ordered by federal courts, the Pentagon said on Friday, after President Donald Trump’s administration decided not to appeal rulings that blocked his transgender ban. Two federal appeals courts, one in Washington and one in Virginia, last week rejected the administra...</td>\n",
       "      <td>politicsNews</td>\n",
       "      <td>December 29, 2017</td>\n",
       "      <td>0</td>\n",
       "    </tr>\n",
       "    <tr>\n",
       "      <th>2</th>\n",
       "      <td>Senior U.S. Republican senator: 'Let Mr. Mueller do his job'</td>\n",
       "      <td>WASHINGTON (Reuters) - The special counsel investigation of links between Russia and President Trump’s 2016 election campaign should continue without interference in 2018, despite calls from some Trump administration allies and Republican lawmakers to shut it down, a prominent Republican senator said on Sunday. Lindsey Graham, who serves on the Senate armed forces and judiciary committees, sai...</td>\n",
       "      <td>politicsNews</td>\n",
       "      <td>December 31, 2017</td>\n",
       "      <td>0</td>\n",
       "    </tr>\n",
       "    <tr>\n",
       "      <th>3</th>\n",
       "      <td>FBI Russia probe helped by Australian diplomat tip-off: NYT</td>\n",
       "      <td>WASHINGTON (Reuters) - Trump campaign adviser George Papadopoulos told an Australian diplomat in May 2016 that Russia had political dirt on Democratic presidential candidate Hillary Clinton, the New York Times reported on Saturday. The conversation between Papadopoulos and the diplomat, Alexander Downer, in London was a driving factor behind the FBI’s decision to open a counter-intelligence in...</td>\n",
       "      <td>politicsNews</td>\n",
       "      <td>December 30, 2017</td>\n",
       "      <td>0</td>\n",
       "    </tr>\n",
       "    <tr>\n",
       "      <th>4</th>\n",
       "      <td>Trump wants Postal Service to charge 'much more' for Amazon shipments</td>\n",
       "      <td>SEATTLE/WASHINGTON (Reuters) - President Donald Trump called on the U.S. Postal Service on Friday to charge “much more” to ship packages for Amazon (AMZN.O), picking another fight with an online retail giant he has criticized in the past.     “Why is the United States Post Office, which is losing many billions of dollars a year, while charging Amazon and others so little to deliver their packa...</td>\n",
       "      <td>politicsNews</td>\n",
       "      <td>December 29, 2017</td>\n",
       "      <td>0</td>\n",
       "    </tr>\n",
       "    <tr>\n",
       "      <th>...</th>\n",
       "      <td>...</td>\n",
       "      <td>...</td>\n",
       "      <td>...</td>\n",
       "      <td>...</td>\n",
       "      <td>...</td>\n",
       "    </tr>\n",
       "    <tr>\n",
       "      <th>21412</th>\n",
       "      <td>'Fully committed' NATO backs new U.S. approach on Afghanistan</td>\n",
       "      <td>BRUSSELS (Reuters) - NATO allies on Tuesday welcomed President Donald Trump s decision to commit more forces to Afghanistan, as part of a new U.S. strategy he said would require more troops and funding from America s partners. Having run for the White House last year on a pledge to withdraw swiftly from Afghanistan, Trump reversed course on Monday and promised a stepped-up military campaign ag...</td>\n",
       "      <td>worldnews</td>\n",
       "      <td>August 22, 2017</td>\n",
       "      <td>0</td>\n",
       "    </tr>\n",
       "    <tr>\n",
       "      <th>21413</th>\n",
       "      <td>LexisNexis withdrew two products from Chinese market</td>\n",
       "      <td>LONDON (Reuters) - LexisNexis, a provider of legal, regulatory and business information, said on Tuesday it had withdrawn two products from the Chinese market in March this year after it was asked to remove some content.  The issue of academic freedom in China hit the headlines this week after the leading British academic publisher,  Cambridge University Press, said it had complied with a requ...</td>\n",
       "      <td>worldnews</td>\n",
       "      <td>August 22, 2017</td>\n",
       "      <td>0</td>\n",
       "    </tr>\n",
       "    <tr>\n",
       "      <th>21414</th>\n",
       "      <td>Minsk cultural hub becomes haven from authorities</td>\n",
       "      <td>MINSK (Reuters) - In the shadow of disused Soviet-era factories in Minsk, a street lined with eclectic bars, art galleries and yoga studios has become a haven from the vigilant eyes of the Belarussian authorities.  This place is like an island,  said Yegor, 21, who works at  popular bar Hooligan.  It s the street of freedom.  The government of President Alexander Lukashenko, who has ruled Bela...</td>\n",
       "      <td>worldnews</td>\n",
       "      <td>August 22, 2017</td>\n",
       "      <td>0</td>\n",
       "    </tr>\n",
       "    <tr>\n",
       "      <th>21415</th>\n",
       "      <td>Vatican upbeat on possibility of Pope Francis visiting Russia</td>\n",
       "      <td>MOSCOW (Reuters) - Vatican Secretary of State Cardinal Pietro Parolin said on Tuesday that there was  positive momentum  behind the idea of Pope Francis visiting Russia, but suggested there was more work to be done if it were to happen.  Parolin, speaking at a joint news conference in Moscow alongside Russian Foreign Minister Sergei Lavrov, did not give any date for such a possible visit. The ...</td>\n",
       "      <td>worldnews</td>\n",
       "      <td>August 22, 2017</td>\n",
       "      <td>0</td>\n",
       "    </tr>\n",
       "    <tr>\n",
       "      <th>21416</th>\n",
       "      <td>Indonesia to buy $1.14 billion worth of Russian jets</td>\n",
       "      <td>JAKARTA (Reuters) - Indonesia will buy 11 Sukhoi fighter jets worth $1.14 billion from Russia in exchange for cash and Indonesian commodities, two cabinet ministers said on Tuesday. The Southeast Asian country has pledged to ship up to $570 million worth of commodities in addition to cash to pay for the Suhkoi SU-35 fighter jets, which are expected to be delivered in stages starting in two yea...</td>\n",
       "      <td>worldnews</td>\n",
       "      <td>August 22, 2017</td>\n",
       "      <td>0</td>\n",
       "    </tr>\n",
       "  </tbody>\n",
       "</table>\n",
       "<p>21417 rows × 5 columns</p>\n",
       "</div>"
      ],
      "text/plain": [
       "                                                                       title  \\\n",
       "0           As U.S. budget fight looms, Republicans flip their fiscal script   \n",
       "1           U.S. military to accept transgender recruits on Monday: Pentagon   \n",
       "2               Senior U.S. Republican senator: 'Let Mr. Mueller do his job'   \n",
       "3                FBI Russia probe helped by Australian diplomat tip-off: NYT   \n",
       "4      Trump wants Postal Service to charge 'much more' for Amazon shipments   \n",
       "...                                                                      ...   \n",
       "21412          'Fully committed' NATO backs new U.S. approach on Afghanistan   \n",
       "21413                   LexisNexis withdrew two products from Chinese market   \n",
       "21414                      Minsk cultural hub becomes haven from authorities   \n",
       "21415          Vatican upbeat on possibility of Pope Francis visiting Russia   \n",
       "21416                   Indonesia to buy $1.14 billion worth of Russian jets   \n",
       "\n",
       "                                                                                                                                                                                                                                                                                                                                                                                                                  text  \\\n",
       "0      WASHINGTON (Reuters) - The head of a conservative Republican faction in the U.S. Congress, who voted this month for a huge expansion of the national debt to pay for tax cuts, called himself a “fiscal conservative” on Sunday and urged budget restraint in 2018. In keeping with a sharp pivot under way among Republicans, U.S. Representative Mark Meadows, speaking on CBS’ “Face the Nation,” drew a ...   \n",
       "1      WASHINGTON (Reuters) - Transgender people will be allowed for the first time to enlist in the U.S. military starting on Monday as ordered by federal courts, the Pentagon said on Friday, after President Donald Trump’s administration decided not to appeal rulings that blocked his transgender ban. Two federal appeals courts, one in Washington and one in Virginia, last week rejected the administra...   \n",
       "2      WASHINGTON (Reuters) - The special counsel investigation of links between Russia and President Trump’s 2016 election campaign should continue without interference in 2018, despite calls from some Trump administration allies and Republican lawmakers to shut it down, a prominent Republican senator said on Sunday. Lindsey Graham, who serves on the Senate armed forces and judiciary committees, sai...   \n",
       "3      WASHINGTON (Reuters) - Trump campaign adviser George Papadopoulos told an Australian diplomat in May 2016 that Russia had political dirt on Democratic presidential candidate Hillary Clinton, the New York Times reported on Saturday. The conversation between Papadopoulos and the diplomat, Alexander Downer, in London was a driving factor behind the FBI’s decision to open a counter-intelligence in...   \n",
       "4      SEATTLE/WASHINGTON (Reuters) - President Donald Trump called on the U.S. Postal Service on Friday to charge “much more” to ship packages for Amazon (AMZN.O), picking another fight with an online retail giant he has criticized in the past.     “Why is the United States Post Office, which is losing many billions of dollars a year, while charging Amazon and others so little to deliver their packa...   \n",
       "...                                                                                                                                                                                                                                                                                                                                                                                                                ...   \n",
       "21412  BRUSSELS (Reuters) - NATO allies on Tuesday welcomed President Donald Trump s decision to commit more forces to Afghanistan, as part of a new U.S. strategy he said would require more troops and funding from America s partners. Having run for the White House last year on a pledge to withdraw swiftly from Afghanistan, Trump reversed course on Monday and promised a stepped-up military campaign ag...   \n",
       "21413  LONDON (Reuters) - LexisNexis, a provider of legal, regulatory and business information, said on Tuesday it had withdrawn two products from the Chinese market in March this year after it was asked to remove some content.  The issue of academic freedom in China hit the headlines this week after the leading British academic publisher,  Cambridge University Press, said it had complied with a requ...   \n",
       "21414  MINSK (Reuters) - In the shadow of disused Soviet-era factories in Minsk, a street lined with eclectic bars, art galleries and yoga studios has become a haven from the vigilant eyes of the Belarussian authorities.  This place is like an island,  said Yegor, 21, who works at  popular bar Hooligan.  It s the street of freedom.  The government of President Alexander Lukashenko, who has ruled Bela...   \n",
       "21415  MOSCOW (Reuters) - Vatican Secretary of State Cardinal Pietro Parolin said on Tuesday that there was  positive momentum  behind the idea of Pope Francis visiting Russia, but suggested there was more work to be done if it were to happen.  Parolin, speaking at a joint news conference in Moscow alongside Russian Foreign Minister Sergei Lavrov, did not give any date for such a possible visit. The ...   \n",
       "21416  JAKARTA (Reuters) - Indonesia will buy 11 Sukhoi fighter jets worth $1.14 billion from Russia in exchange for cash and Indonesian commodities, two cabinet ministers said on Tuesday. The Southeast Asian country has pledged to ship up to $570 million worth of commodities in addition to cash to pay for the Suhkoi SU-35 fighter jets, which are expected to be delivered in stages starting in two yea...   \n",
       "\n",
       "            subject                date target  \n",
       "0      politicsNews  December 31, 2017       0  \n",
       "1      politicsNews  December 29, 2017       0  \n",
       "2      politicsNews  December 31, 2017       0  \n",
       "3      politicsNews  December 30, 2017       0  \n",
       "4      politicsNews  December 29, 2017       0  \n",
       "...             ...                 ...    ...  \n",
       "21412     worldnews    August 22, 2017       0  \n",
       "21413     worldnews    August 22, 2017       0  \n",
       "21414     worldnews    August 22, 2017       0  \n",
       "21415     worldnews    August 22, 2017       0  \n",
       "21416     worldnews    August 22, 2017       0  \n",
       "\n",
       "[21417 rows x 5 columns]"
      ]
     },
     "execution_count": 2,
     "metadata": {},
     "output_type": "execute_result"
    }
   ],
   "source": [
    "# load in real news\n",
    "realnews = pd.read_csv('data/True.csv')\n",
    "\n",
    "# set target column to 0\n",
    "realnews['target'] = '0'\n",
    "realnews"
   ]
  },
  {
   "cell_type": "code",
   "execution_count": 3,
   "id": "dfa99de1",
   "metadata": {},
   "outputs": [
    {
     "data": {
      "text/html": [
       "<div>\n",
       "<style scoped>\n",
       "    .dataframe tbody tr th:only-of-type {\n",
       "        vertical-align: middle;\n",
       "    }\n",
       "\n",
       "    .dataframe tbody tr th {\n",
       "        vertical-align: top;\n",
       "    }\n",
       "\n",
       "    .dataframe thead th {\n",
       "        text-align: right;\n",
       "    }\n",
       "</style>\n",
       "<table border=\"1\" class=\"dataframe\">\n",
       "  <thead>\n",
       "    <tr style=\"text-align: right;\">\n",
       "      <th></th>\n",
       "      <th>title</th>\n",
       "      <th>text</th>\n",
       "      <th>subject</th>\n",
       "      <th>date</th>\n",
       "      <th>target</th>\n",
       "    </tr>\n",
       "  </thead>\n",
       "  <tbody>\n",
       "    <tr>\n",
       "      <th>0</th>\n",
       "      <td>Donald Trump Sends Out Embarrassing New Year’s Eve Message; This is Disturbing</td>\n",
       "      <td>Donald Trump just couldn t wish all Americans a Happy New Year and leave it at that. Instead, he had to give a shout out to his enemies, haters and  the very dishonest fake news media.  The former reality show star had just one job to do and he couldn t do it. As our Country rapidly grows stronger and smarter, I want to wish all of my friends, supporters, enemies, haters, and even the very dis...</td>\n",
       "      <td>News</td>\n",
       "      <td>December 31, 2017</td>\n",
       "      <td>1</td>\n",
       "    </tr>\n",
       "    <tr>\n",
       "      <th>1</th>\n",
       "      <td>Drunk Bragging Trump Staffer Started Russian Collusion Investigation</td>\n",
       "      <td>House Intelligence Committee Chairman Devin Nunes is going to have a bad day. He s been under the assumption, like many of us, that the Christopher Steele-dossier was what prompted the Russia investigation so he s been lashing out at the Department of Justice and the FBI in order to protect Trump. As it happens, the dossier is not what started the investigation, according to documents obtained...</td>\n",
       "      <td>News</td>\n",
       "      <td>December 31, 2017</td>\n",
       "      <td>1</td>\n",
       "    </tr>\n",
       "    <tr>\n",
       "      <th>2</th>\n",
       "      <td>Sheriff David Clarke Becomes An Internet Joke For Threatening To Poke People ‘In The Eye’</td>\n",
       "      <td>On Friday, it was revealed that former Milwaukee Sheriff David Clarke, who was being considered for Homeland Security Secretary in Donald Trump s administration, has an email scandal of his own.In January, there was a brief run-in on a plane between Clarke and fellow passenger Dan Black, who he later had detained by the police for no reason whatsoever, except that maybe his feelings were hurt....</td>\n",
       "      <td>News</td>\n",
       "      <td>December 30, 2017</td>\n",
       "      <td>1</td>\n",
       "    </tr>\n",
       "    <tr>\n",
       "      <th>3</th>\n",
       "      <td>Trump Is So Obsessed He Even Has Obama’s Name Coded Into His Website (IMAGES)</td>\n",
       "      <td>On Christmas day, Donald Trump announced that he would  be back to work  the following day, but he is golfing for the fourth day in a row. The former reality show star blasted former President Barack Obama for playing golf and now Trump is on track to outpace the number of golf games his predecessor played.Updated my tracker of Trump s appearances at Trump properties.71 rounds of golf includin...</td>\n",
       "      <td>News</td>\n",
       "      <td>December 29, 2017</td>\n",
       "      <td>1</td>\n",
       "    </tr>\n",
       "    <tr>\n",
       "      <th>4</th>\n",
       "      <td>Pope Francis Just Called Out Donald Trump During His Christmas Speech</td>\n",
       "      <td>Pope Francis used his annual Christmas Day message to rebuke Donald Trump without even mentioning his name. The Pope delivered his message just days after members of the United Nations condemned Trump s move to recognize Jerusalem as the capital of Israel. The Pontiff prayed on Monday for the  peaceful coexistence of two states within mutually agreed and internationally recognized borders. We ...</td>\n",
       "      <td>News</td>\n",
       "      <td>December 25, 2017</td>\n",
       "      <td>1</td>\n",
       "    </tr>\n",
       "    <tr>\n",
       "      <th>...</th>\n",
       "      <td>...</td>\n",
       "      <td>...</td>\n",
       "      <td>...</td>\n",
       "      <td>...</td>\n",
       "      <td>...</td>\n",
       "    </tr>\n",
       "    <tr>\n",
       "      <th>23476</th>\n",
       "      <td>McPain: John McCain Furious That Iran Treated US Sailors Well</td>\n",
       "      <td>21st Century Wire says As 21WIRE reported earlier this week, the unlikely  mishap  of two US Naval vessels straying into Iranian waters   just hours before the President s State of the Union speech, followed by the usual parade of arch-neocons coming on TV in real time to declare the incident as  an act of aggression  by Iran against the United States   is no mere coincidence.24 hours after th...</td>\n",
       "      <td>Middle-east</td>\n",
       "      <td>January 16, 2016</td>\n",
       "      <td>1</td>\n",
       "    </tr>\n",
       "    <tr>\n",
       "      <th>23477</th>\n",
       "      <td>JUSTICE? Yahoo Settles E-mail Privacy Class-action: $4M for Lawyers, $0 for Users</td>\n",
       "      <td>21st Century Wire says It s a familiar theme. Whenever there is a dispute or a change of law, and two tribes go to war, there is normally only one real winner after the tribulation  the lawyers. Ars TechnicaIn late 2013, Yahoo was hit with six lawsuits over its practice of using automated scans of e-mail to produce targeted ads. The cases, which were consolidated in federal court, all argued t...</td>\n",
       "      <td>Middle-east</td>\n",
       "      <td>January 16, 2016</td>\n",
       "      <td>1</td>\n",
       "    </tr>\n",
       "    <tr>\n",
       "      <th>23478</th>\n",
       "      <td>Sunnistan: US and Allied ‘Safe Zone’ Plan to Take Territorial Booty in Northern Syria</td>\n",
       "      <td>Patrick Henningsen  21st Century WireRemember when the Obama Administration told the world how it hoped to identify 5,000 reliable non-jihadist  moderate  rebels hanging out in Turkey and Jordan, who might want to fight for Washington in Syria? After all the drama over its infamous  train and equip  program to create their own Arab army in Syria, they want to give it another try.This week, Pen...</td>\n",
       "      <td>Middle-east</td>\n",
       "      <td>January 15, 2016</td>\n",
       "      <td>1</td>\n",
       "    </tr>\n",
       "    <tr>\n",
       "      <th>23479</th>\n",
       "      <td>How to Blow $700 Million: Al Jazeera America Finally Calls it Quits</td>\n",
       "      <td>21st Century Wire says Al Jazeera America will go down in history as one of the biggest failures in broadcast media history.Ever since the US and its allies began plotting to overthrow Libya and Syria, Al Jazeera has deteriorated from a promising international news network in 2003   into what it has become in 2016   a full-blown agit prop media shop for the US State Department and the Pentagon...</td>\n",
       "      <td>Middle-east</td>\n",
       "      <td>January 14, 2016</td>\n",
       "      <td>1</td>\n",
       "    </tr>\n",
       "    <tr>\n",
       "      <th>23480</th>\n",
       "      <td>10 U.S. Navy Sailors Held by Iranian Military – Signs of a Neocon Political Stunt</td>\n",
       "      <td>21st Century Wire says As 21WIRE predicted in its new year s look ahead, we have a new  hostage  crisis underway.Today, Iranian military forces report that two small riverine U.S. Navy boats were seized in Iranian waters, and are currently being held on Iran s Farsi Island in the Persian Gulf. A total of 10 U.S. Navy personnel, nine men and one woman, have been detained by Iranian authorities....</td>\n",
       "      <td>Middle-east</td>\n",
       "      <td>January 12, 2016</td>\n",
       "      <td>1</td>\n",
       "    </tr>\n",
       "  </tbody>\n",
       "</table>\n",
       "<p>23481 rows × 5 columns</p>\n",
       "</div>"
      ],
      "text/plain": [
       "                                                                                            title  \\\n",
       "0                  Donald Trump Sends Out Embarrassing New Year’s Eve Message; This is Disturbing   \n",
       "1                            Drunk Bragging Trump Staffer Started Russian Collusion Investigation   \n",
       "2       Sheriff David Clarke Becomes An Internet Joke For Threatening To Poke People ‘In The Eye’   \n",
       "3                   Trump Is So Obsessed He Even Has Obama’s Name Coded Into His Website (IMAGES)   \n",
       "4                           Pope Francis Just Called Out Donald Trump During His Christmas Speech   \n",
       "...                                                                                           ...   \n",
       "23476                               McPain: John McCain Furious That Iran Treated US Sailors Well   \n",
       "23477           JUSTICE? Yahoo Settles E-mail Privacy Class-action: $4M for Lawyers, $0 for Users   \n",
       "23478       Sunnistan: US and Allied ‘Safe Zone’ Plan to Take Territorial Booty in Northern Syria   \n",
       "23479                         How to Blow $700 Million: Al Jazeera America Finally Calls it Quits   \n",
       "23480           10 U.S. Navy Sailors Held by Iranian Military – Signs of a Neocon Political Stunt   \n",
       "\n",
       "                                                                                                                                                                                                                                                                                                                                                                                                                  text  \\\n",
       "0      Donald Trump just couldn t wish all Americans a Happy New Year and leave it at that. Instead, he had to give a shout out to his enemies, haters and  the very dishonest fake news media.  The former reality show star had just one job to do and he couldn t do it. As our Country rapidly grows stronger and smarter, I want to wish all of my friends, supporters, enemies, haters, and even the very dis...   \n",
       "1      House Intelligence Committee Chairman Devin Nunes is going to have a bad day. He s been under the assumption, like many of us, that the Christopher Steele-dossier was what prompted the Russia investigation so he s been lashing out at the Department of Justice and the FBI in order to protect Trump. As it happens, the dossier is not what started the investigation, according to documents obtained...   \n",
       "2      On Friday, it was revealed that former Milwaukee Sheriff David Clarke, who was being considered for Homeland Security Secretary in Donald Trump s administration, has an email scandal of his own.In January, there was a brief run-in on a plane between Clarke and fellow passenger Dan Black, who he later had detained by the police for no reason whatsoever, except that maybe his feelings were hurt....   \n",
       "3      On Christmas day, Donald Trump announced that he would  be back to work  the following day, but he is golfing for the fourth day in a row. The former reality show star blasted former President Barack Obama for playing golf and now Trump is on track to outpace the number of golf games his predecessor played.Updated my tracker of Trump s appearances at Trump properties.71 rounds of golf includin...   \n",
       "4      Pope Francis used his annual Christmas Day message to rebuke Donald Trump without even mentioning his name. The Pope delivered his message just days after members of the United Nations condemned Trump s move to recognize Jerusalem as the capital of Israel. The Pontiff prayed on Monday for the  peaceful coexistence of two states within mutually agreed and internationally recognized borders. We ...   \n",
       "...                                                                                                                                                                                                                                                                                                                                                                                                                ...   \n",
       "23476  21st Century Wire says As 21WIRE reported earlier this week, the unlikely  mishap  of two US Naval vessels straying into Iranian waters   just hours before the President s State of the Union speech, followed by the usual parade of arch-neocons coming on TV in real time to declare the incident as  an act of aggression  by Iran against the United States   is no mere coincidence.24 hours after th...   \n",
       "23477  21st Century Wire says It s a familiar theme. Whenever there is a dispute or a change of law, and two tribes go to war, there is normally only one real winner after the tribulation  the lawyers. Ars TechnicaIn late 2013, Yahoo was hit with six lawsuits over its practice of using automated scans of e-mail to produce targeted ads. The cases, which were consolidated in federal court, all argued t...   \n",
       "23478  Patrick Henningsen  21st Century WireRemember when the Obama Administration told the world how it hoped to identify 5,000 reliable non-jihadist  moderate  rebels hanging out in Turkey and Jordan, who might want to fight for Washington in Syria? After all the drama over its infamous  train and equip  program to create their own Arab army in Syria, they want to give it another try.This week, Pen...   \n",
       "23479  21st Century Wire says Al Jazeera America will go down in history as one of the biggest failures in broadcast media history.Ever since the US and its allies began plotting to overthrow Libya and Syria, Al Jazeera has deteriorated from a promising international news network in 2003   into what it has become in 2016   a full-blown agit prop media shop for the US State Department and the Pentagon...   \n",
       "23480  21st Century Wire says As 21WIRE predicted in its new year s look ahead, we have a new  hostage  crisis underway.Today, Iranian military forces report that two small riverine U.S. Navy boats were seized in Iranian waters, and are currently being held on Iran s Farsi Island in the Persian Gulf. A total of 10 U.S. Navy personnel, nine men and one woman, have been detained by Iranian authorities....   \n",
       "\n",
       "           subject               date target  \n",
       "0             News  December 31, 2017      1  \n",
       "1             News  December 31, 2017      1  \n",
       "2             News  December 30, 2017      1  \n",
       "3             News  December 29, 2017      1  \n",
       "4             News  December 25, 2017      1  \n",
       "...            ...                ...    ...  \n",
       "23476  Middle-east   January 16, 2016      1  \n",
       "23477  Middle-east   January 16, 2016      1  \n",
       "23478  Middle-east   January 15, 2016      1  \n",
       "23479  Middle-east   January 14, 2016      1  \n",
       "23480  Middle-east   January 12, 2016      1  \n",
       "\n",
       "[23481 rows x 5 columns]"
      ]
     },
     "execution_count": 3,
     "metadata": {},
     "output_type": "execute_result"
    }
   ],
   "source": [
    "# load in fake news\n",
    "fakenews = pd.read_csv('data/Fake.csv')\n",
    "\n",
    "# set target column to 1\n",
    "fakenews['target'] = '1'\n",
    "fakenews"
   ]
  },
  {
   "cell_type": "markdown",
   "id": "e2a0a7e5",
   "metadata": {},
   "source": [
    "Immediately we can see that in the real news data, each article starts with the city where the report is coming from and '(Reuters)'. In the fake news data, on the other hand, some of the text does not have any identifying information at the head of the article, while others do. We'll have to keep that difference in mind when beginning to process and model the data.\n",
    "\n",
    "For now, let's concatenate these dataframes and drop the subject and date columns to have a complete dataset."
   ]
  },
  {
   "cell_type": "code",
   "execution_count": 4,
   "id": "8fecc550",
   "metadata": {},
   "outputs": [
    {
     "data": {
      "text/html": [
       "<div>\n",
       "<style scoped>\n",
       "    .dataframe tbody tr th:only-of-type {\n",
       "        vertical-align: middle;\n",
       "    }\n",
       "\n",
       "    .dataframe tbody tr th {\n",
       "        vertical-align: top;\n",
       "    }\n",
       "\n",
       "    .dataframe thead th {\n",
       "        text-align: right;\n",
       "    }\n",
       "</style>\n",
       "<table border=\"1\" class=\"dataframe\">\n",
       "  <thead>\n",
       "    <tr style=\"text-align: right;\">\n",
       "      <th></th>\n",
       "      <th>title</th>\n",
       "      <th>text</th>\n",
       "      <th>target</th>\n",
       "    </tr>\n",
       "  </thead>\n",
       "  <tbody>\n",
       "    <tr>\n",
       "      <th>0</th>\n",
       "      <td>As U.S. budget fight looms, Republicans flip their fiscal script</td>\n",
       "      <td>WASHINGTON (Reuters) - The head of a conservative Republican faction in the U.S. Congress, who voted this month for a huge expansion of the national debt to pay for tax cuts, called himself a “fiscal conservative” on Sunday and urged budget restraint in 2018. In keeping with a sharp pivot under way among Republicans, U.S. Representative Mark Meadows, speaking on CBS’ “Face the Nation,” drew a ...</td>\n",
       "      <td>0</td>\n",
       "    </tr>\n",
       "    <tr>\n",
       "      <th>1</th>\n",
       "      <td>U.S. military to accept transgender recruits on Monday: Pentagon</td>\n",
       "      <td>WASHINGTON (Reuters) - Transgender people will be allowed for the first time to enlist in the U.S. military starting on Monday as ordered by federal courts, the Pentagon said on Friday, after President Donald Trump’s administration decided not to appeal rulings that blocked his transgender ban. Two federal appeals courts, one in Washington and one in Virginia, last week rejected the administra...</td>\n",
       "      <td>0</td>\n",
       "    </tr>\n",
       "    <tr>\n",
       "      <th>2</th>\n",
       "      <td>Senior U.S. Republican senator: 'Let Mr. Mueller do his job'</td>\n",
       "      <td>WASHINGTON (Reuters) - The special counsel investigation of links between Russia and President Trump’s 2016 election campaign should continue without interference in 2018, despite calls from some Trump administration allies and Republican lawmakers to shut it down, a prominent Republican senator said on Sunday. Lindsey Graham, who serves on the Senate armed forces and judiciary committees, sai...</td>\n",
       "      <td>0</td>\n",
       "    </tr>\n",
       "    <tr>\n",
       "      <th>3</th>\n",
       "      <td>FBI Russia probe helped by Australian diplomat tip-off: NYT</td>\n",
       "      <td>WASHINGTON (Reuters) - Trump campaign adviser George Papadopoulos told an Australian diplomat in May 2016 that Russia had political dirt on Democratic presidential candidate Hillary Clinton, the New York Times reported on Saturday. The conversation between Papadopoulos and the diplomat, Alexander Downer, in London was a driving factor behind the FBI’s decision to open a counter-intelligence in...</td>\n",
       "      <td>0</td>\n",
       "    </tr>\n",
       "    <tr>\n",
       "      <th>4</th>\n",
       "      <td>Trump wants Postal Service to charge 'much more' for Amazon shipments</td>\n",
       "      <td>SEATTLE/WASHINGTON (Reuters) - President Donald Trump called on the U.S. Postal Service on Friday to charge “much more” to ship packages for Amazon (AMZN.O), picking another fight with an online retail giant he has criticized in the past.     “Why is the United States Post Office, which is losing many billions of dollars a year, while charging Amazon and others so little to deliver their packa...</td>\n",
       "      <td>0</td>\n",
       "    </tr>\n",
       "    <tr>\n",
       "      <th>...</th>\n",
       "      <td>...</td>\n",
       "      <td>...</td>\n",
       "      <td>...</td>\n",
       "    </tr>\n",
       "    <tr>\n",
       "      <th>23476</th>\n",
       "      <td>McPain: John McCain Furious That Iran Treated US Sailors Well</td>\n",
       "      <td>21st Century Wire says As 21WIRE reported earlier this week, the unlikely  mishap  of two US Naval vessels straying into Iranian waters   just hours before the President s State of the Union speech, followed by the usual parade of arch-neocons coming on TV in real time to declare the incident as  an act of aggression  by Iran against the United States   is no mere coincidence.24 hours after th...</td>\n",
       "      <td>1</td>\n",
       "    </tr>\n",
       "    <tr>\n",
       "      <th>23477</th>\n",
       "      <td>JUSTICE? Yahoo Settles E-mail Privacy Class-action: $4M for Lawyers, $0 for Users</td>\n",
       "      <td>21st Century Wire says It s a familiar theme. Whenever there is a dispute or a change of law, and two tribes go to war, there is normally only one real winner after the tribulation  the lawyers. Ars TechnicaIn late 2013, Yahoo was hit with six lawsuits over its practice of using automated scans of e-mail to produce targeted ads. The cases, which were consolidated in federal court, all argued t...</td>\n",
       "      <td>1</td>\n",
       "    </tr>\n",
       "    <tr>\n",
       "      <th>23478</th>\n",
       "      <td>Sunnistan: US and Allied ‘Safe Zone’ Plan to Take Territorial Booty in Northern Syria</td>\n",
       "      <td>Patrick Henningsen  21st Century WireRemember when the Obama Administration told the world how it hoped to identify 5,000 reliable non-jihadist  moderate  rebels hanging out in Turkey and Jordan, who might want to fight for Washington in Syria? After all the drama over its infamous  train and equip  program to create their own Arab army in Syria, they want to give it another try.This week, Pen...</td>\n",
       "      <td>1</td>\n",
       "    </tr>\n",
       "    <tr>\n",
       "      <th>23479</th>\n",
       "      <td>How to Blow $700 Million: Al Jazeera America Finally Calls it Quits</td>\n",
       "      <td>21st Century Wire says Al Jazeera America will go down in history as one of the biggest failures in broadcast media history.Ever since the US and its allies began plotting to overthrow Libya and Syria, Al Jazeera has deteriorated from a promising international news network in 2003   into what it has become in 2016   a full-blown agit prop media shop for the US State Department and the Pentagon...</td>\n",
       "      <td>1</td>\n",
       "    </tr>\n",
       "    <tr>\n",
       "      <th>23480</th>\n",
       "      <td>10 U.S. Navy Sailors Held by Iranian Military – Signs of a Neocon Political Stunt</td>\n",
       "      <td>21st Century Wire says As 21WIRE predicted in its new year s look ahead, we have a new  hostage  crisis underway.Today, Iranian military forces report that two small riverine U.S. Navy boats were seized in Iranian waters, and are currently being held on Iran s Farsi Island in the Persian Gulf. A total of 10 U.S. Navy personnel, nine men and one woman, have been detained by Iranian authorities....</td>\n",
       "      <td>1</td>\n",
       "    </tr>\n",
       "  </tbody>\n",
       "</table>\n",
       "<p>44898 rows × 3 columns</p>\n",
       "</div>"
      ],
      "text/plain": [
       "                                                                                       title  \\\n",
       "0                           As U.S. budget fight looms, Republicans flip their fiscal script   \n",
       "1                           U.S. military to accept transgender recruits on Monday: Pentagon   \n",
       "2                               Senior U.S. Republican senator: 'Let Mr. Mueller do his job'   \n",
       "3                                FBI Russia probe helped by Australian diplomat tip-off: NYT   \n",
       "4                      Trump wants Postal Service to charge 'much more' for Amazon shipments   \n",
       "...                                                                                      ...   \n",
       "23476                          McPain: John McCain Furious That Iran Treated US Sailors Well   \n",
       "23477      JUSTICE? Yahoo Settles E-mail Privacy Class-action: $4M for Lawyers, $0 for Users   \n",
       "23478  Sunnistan: US and Allied ‘Safe Zone’ Plan to Take Territorial Booty in Northern Syria   \n",
       "23479                    How to Blow $700 Million: Al Jazeera America Finally Calls it Quits   \n",
       "23480      10 U.S. Navy Sailors Held by Iranian Military – Signs of a Neocon Political Stunt   \n",
       "\n",
       "                                                                                                                                                                                                                                                                                                                                                                                                                  text  \\\n",
       "0      WASHINGTON (Reuters) - The head of a conservative Republican faction in the U.S. Congress, who voted this month for a huge expansion of the national debt to pay for tax cuts, called himself a “fiscal conservative” on Sunday and urged budget restraint in 2018. In keeping with a sharp pivot under way among Republicans, U.S. Representative Mark Meadows, speaking on CBS’ “Face the Nation,” drew a ...   \n",
       "1      WASHINGTON (Reuters) - Transgender people will be allowed for the first time to enlist in the U.S. military starting on Monday as ordered by federal courts, the Pentagon said on Friday, after President Donald Trump’s administration decided not to appeal rulings that blocked his transgender ban. Two federal appeals courts, one in Washington and one in Virginia, last week rejected the administra...   \n",
       "2      WASHINGTON (Reuters) - The special counsel investigation of links between Russia and President Trump’s 2016 election campaign should continue without interference in 2018, despite calls from some Trump administration allies and Republican lawmakers to shut it down, a prominent Republican senator said on Sunday. Lindsey Graham, who serves on the Senate armed forces and judiciary committees, sai...   \n",
       "3      WASHINGTON (Reuters) - Trump campaign adviser George Papadopoulos told an Australian diplomat in May 2016 that Russia had political dirt on Democratic presidential candidate Hillary Clinton, the New York Times reported on Saturday. The conversation between Papadopoulos and the diplomat, Alexander Downer, in London was a driving factor behind the FBI’s decision to open a counter-intelligence in...   \n",
       "4      SEATTLE/WASHINGTON (Reuters) - President Donald Trump called on the U.S. Postal Service on Friday to charge “much more” to ship packages for Amazon (AMZN.O), picking another fight with an online retail giant he has criticized in the past.     “Why is the United States Post Office, which is losing many billions of dollars a year, while charging Amazon and others so little to deliver their packa...   \n",
       "...                                                                                                                                                                                                                                                                                                                                                                                                                ...   \n",
       "23476  21st Century Wire says As 21WIRE reported earlier this week, the unlikely  mishap  of two US Naval vessels straying into Iranian waters   just hours before the President s State of the Union speech, followed by the usual parade of arch-neocons coming on TV in real time to declare the incident as  an act of aggression  by Iran against the United States   is no mere coincidence.24 hours after th...   \n",
       "23477  21st Century Wire says It s a familiar theme. Whenever there is a dispute or a change of law, and two tribes go to war, there is normally only one real winner after the tribulation  the lawyers. Ars TechnicaIn late 2013, Yahoo was hit with six lawsuits over its practice of using automated scans of e-mail to produce targeted ads. The cases, which were consolidated in federal court, all argued t...   \n",
       "23478  Patrick Henningsen  21st Century WireRemember when the Obama Administration told the world how it hoped to identify 5,000 reliable non-jihadist  moderate  rebels hanging out in Turkey and Jordan, who might want to fight for Washington in Syria? After all the drama over its infamous  train and equip  program to create their own Arab army in Syria, they want to give it another try.This week, Pen...   \n",
       "23479  21st Century Wire says Al Jazeera America will go down in history as one of the biggest failures in broadcast media history.Ever since the US and its allies began plotting to overthrow Libya and Syria, Al Jazeera has deteriorated from a promising international news network in 2003   into what it has become in 2016   a full-blown agit prop media shop for the US State Department and the Pentagon...   \n",
       "23480  21st Century Wire says As 21WIRE predicted in its new year s look ahead, we have a new  hostage  crisis underway.Today, Iranian military forces report that two small riverine U.S. Navy boats were seized in Iranian waters, and are currently being held on Iran s Farsi Island in the Persian Gulf. A total of 10 U.S. Navy personnel, nine men and one woman, have been detained by Iranian authorities....   \n",
       "\n",
       "      target  \n",
       "0          0  \n",
       "1          0  \n",
       "2          0  \n",
       "3          0  \n",
       "4          0  \n",
       "...      ...  \n",
       "23476      1  \n",
       "23477      1  \n",
       "23478      1  \n",
       "23479      1  \n",
       "23480      1  \n",
       "\n",
       "[44898 rows x 3 columns]"
      ]
     },
     "execution_count": 4,
     "metadata": {},
     "output_type": "execute_result"
    }
   ],
   "source": [
    "# combine fake and real news dfs\n",
    "news = pd.concat([realnews, fakenews])\n",
    "news.drop(['subject', 'date'], axis = 1, inplace = True)\n",
    "news"
   ]
  },
  {
   "cell_type": "code",
   "execution_count": 5,
   "id": "cabb7c24",
   "metadata": {},
   "outputs": [
    {
     "data": {
      "text/plain": [
       "1    0.522985\n",
       "0    0.477015\n",
       "Name: target, dtype: float64"
      ]
     },
     "execution_count": 5,
     "metadata": {},
     "output_type": "execute_result"
    }
   ],
   "source": [
    "# get percentage of each class\n",
    "news['target'].value_counts(normalize = True)"
   ]
  },
  {
   "cell_type": "markdown",
   "id": "4cf83403",
   "metadata": {},
   "source": [
    "Our classes are roughly balanced, which will be helpful for assessing the accuracy of our model. Since about 52% of the articles in the dataset are fake, we'll want to see our model perform much better than that to indicate it is performing well."
   ]
  },
  {
   "cell_type": "markdown",
   "id": "700bbdb6",
   "metadata": {},
   "source": [
    "## Data Cleaning and EDA\n",
    "### Removing Links, Hashtags, and Other Non-Semantic Information"
   ]
  },
  {
   "cell_type": "markdown",
   "id": "cb277321",
   "metadata": {},
   "source": [
    "Let's take a look at a few random rows from the data to see what kind of cleaning may be necessary before we can vectorize our text:"
   ]
  },
  {
   "cell_type": "code",
   "execution_count": 6,
   "id": "456f8bc1",
   "metadata": {},
   "outputs": [
    {
     "data": {
      "text/html": [
       "<div>\n",
       "<style scoped>\n",
       "    .dataframe tbody tr th:only-of-type {\n",
       "        vertical-align: middle;\n",
       "    }\n",
       "\n",
       "    .dataframe tbody tr th {\n",
       "        vertical-align: top;\n",
       "    }\n",
       "\n",
       "    .dataframe thead th {\n",
       "        text-align: right;\n",
       "    }\n",
       "</style>\n",
       "<table border=\"1\" class=\"dataframe\">\n",
       "  <thead>\n",
       "    <tr style=\"text-align: right;\">\n",
       "      <th></th>\n",
       "      <th>title</th>\n",
       "      <th>text</th>\n",
       "      <th>target</th>\n",
       "    </tr>\n",
       "  </thead>\n",
       "  <tbody>\n",
       "    <tr>\n",
       "      <th>14379</th>\n",
       "      <td>WAKE UP AMERICA! SOMALI CANDIDATES IN MINNESOTA Only Speak In Somali At Caucus…Guess Who They’re Voting For [Video]</td>\n",
       "      <td>While our eyes are on the invasion of Europe, we re being quietly invaded by Muslim  refugees  who re really not refugees at all. We need to put an end to the refugee resettlement program NOW! The State Department has admitted over 10,000 Somalis in  10 years! Minneapolis has been hit hardest with a crazy number of 4,868! If you think these people aren t coming here for the  goodies  like welf...</td>\n",
       "      <td>1</td>\n",
       "    </tr>\n",
       "    <tr>\n",
       "      <th>6643</th>\n",
       "      <td>Donald Trump Promotes Shooting Muslims With Bullets Dipped In Pig’s Blood, Gets An Ovation (VIDEO)</td>\n",
       "      <td>During a rally in California, GOP presidential frontrunner Donald Trump praised a bogus historical incident where Muslims were shot by bullets dipped in pig s blood   to rapturous applause.It appears that neither Donald Trump, nor the crowd in Costa Mesa, are aware that there is no evidence this historical incident actually happened. Given the campaign s focus on rhetoric over fact to date, t ...</td>\n",
       "      <td>1</td>\n",
       "    </tr>\n",
       "    <tr>\n",
       "      <th>4127</th>\n",
       "      <td>WATCH: MSNBC Host TORCHES Trump Campaign Manager To A Crisp For 18 Glorious Minutes</td>\n",
       "      <td>Defending Satan is hard. That s what Kellyanne Conway learned during an appearance on MSNBC on Wednesday morning.With eleven hours to go before the third presidential debate kicks off, host Stephanie Ruhle relentlessly grilled Donald Trump s campaign manager on everything from the Republican nominee s claims that the election is  rigged  to the sexual assault allegations against him to him inv...</td>\n",
       "      <td>1</td>\n",
       "    </tr>\n",
       "    <tr>\n",
       "      <th>18546</th>\n",
       "      <td>“Comedian” Kathy Griffin’s 7th And FINAL Venue Cancels…Who’s Laughing Now?</td>\n",
       "      <td>Venues in New Jersey, New York and Pennsylvania and now California have all canceled their Kathy Griffin Celebrity Run-In shows. The Community Arts Theater in Williamsport, Pennsylvania, posted on its website that the show had been dropped  due to the recent controversy surrounding Kathy Griffin and the concern for the safety and security of our patrons and staff. Earlier this week, CNN said G...</td>\n",
       "      <td>1</td>\n",
       "    </tr>\n",
       "    <tr>\n",
       "      <th>13863</th>\n",
       "      <td>Former Zimbabwe finmin Chombo detained until bail hearing Monday</td>\n",
       "      <td>HARARE (Reuters) - Ousted Zimbabwe finance minister Ignatius Chombo, charged with three counts of corruption in offences that allegedly took place more than a decade ago, will be detained until Monday, when the court will rule on his bail application. Chombo was among those detained by the military when it seized power before Robert Mugabe resigned as president on Tuesday.  Several members of ...</td>\n",
       "      <td>0</td>\n",
       "    </tr>\n",
       "    <tr>\n",
       "      <th>7519</th>\n",
       "      <td>Legendary Investigative Journalist Carl Bernstein Confirms Trump Is A Fascist (VIDEO)</td>\n",
       "      <td>Veteran investigative reporter Carl Bernstein outed Donald Trump as a fascist on Sunday, and if you don t believe him just Google the definition of fascism and you ll see he s right.During an appearance on CNN, Bernstein was asked by Brian Stelter why he thinks Trump is a neo-fascist and the former Washington Post reporter who broke the Watergate scandal wide open in the 1970s obliged. It is a...</td>\n",
       "      <td>1</td>\n",
       "    </tr>\n",
       "    <tr>\n",
       "      <th>10632</th>\n",
       "      <td>FULL TRANSCRIPT AND VIDEO From A Passionate AG Sessions: “Please hear me now…” [Video]</td>\n",
       "      <td>FULL OPENING STATEMENT OF ATTORNEY GENERAL SESSIONS  STATEMENT: It was a very strong and passionate statement from a determined Sessions.FULL TRANSCRIPT:Thank you Chairman Burr and Ranking Member Warner for allowing me to publicly appear before the committee today.I appreciate the Committee s critically important efforts to investigate Russian interference with our democratic process. Such int...</td>\n",
       "      <td>1</td>\n",
       "    </tr>\n",
       "    <tr>\n",
       "      <th>16989</th>\n",
       "      <td>CIA chief says U.S.-Canadian couple held for five years in Pakistan</td>\n",
       "      <td>WASHINGTON (Reuters) - The head of the CIA said on Thursday a U.S.-Canadian couple kidnapped by Islamist militants in Afghanistan were held inside neighboring Pakistan for five years before being freed.       We had a great outcome last week when we were able to get back four U.S. citizens who had been held for five years inside of Pakistan,  CIA Director Mike Pompeo told the Foundation for De...</td>\n",
       "      <td>0</td>\n",
       "    </tr>\n",
       "    <tr>\n",
       "      <th>19906</th>\n",
       "      <td>HILLARY SUPPORTER AND MUSLIM IMMIGRANT Who Shot Up Mall Voted In Last 3 Elections…Isn’t An American Citizen [VIDEO]</td>\n",
       "      <td>This story is a perfect example of why Barack and Hillary are in such a big hurry to bring foreigners into our country. It doesn t matter if American citizens are on the hook to support them and their extended families for decades to come. What matters is how they vote, and it s pretty clear by this discovery about this Muslim immigrant, he not only supports Hillary, he s been ILLEGALLY voting...</td>\n",
       "      <td>1</td>\n",
       "    </tr>\n",
       "    <tr>\n",
       "      <th>18155</th>\n",
       "      <td>Cambodian government files lawsuit to dissolve main opposition party</td>\n",
       "      <td>PHNOM PENH (Reuters) - Cambodian government lawyers filed a lawsuit on Friday to demand the dissolution of the main opposition party, in a move that would help Prime Minister Hun Sen extend his 32-year rule when the poor Southeast Asian nation votes in an election next year. The attempt to disband the Cambodia National Rescue Party (CNRP) comes after its leader, Kem Sokha, was charged with tre...</td>\n",
       "      <td>0</td>\n",
       "    </tr>\n",
       "  </tbody>\n",
       "</table>\n",
       "</div>"
      ],
      "text/plain": [
       "                                                                                                                     title  \\\n",
       "14379  WAKE UP AMERICA! SOMALI CANDIDATES IN MINNESOTA Only Speak In Somali At Caucus…Guess Who They’re Voting For [Video]   \n",
       "6643                    Donald Trump Promotes Shooting Muslims With Bullets Dipped In Pig’s Blood, Gets An Ovation (VIDEO)   \n",
       "4127                                   WATCH: MSNBC Host TORCHES Trump Campaign Manager To A Crisp For 18 Glorious Minutes   \n",
       "18546                                           “Comedian” Kathy Griffin’s 7th And FINAL Venue Cancels…Who’s Laughing Now?   \n",
       "13863                                                     Former Zimbabwe finmin Chombo detained until bail hearing Monday   \n",
       "7519                                 Legendary Investigative Journalist Carl Bernstein Confirms Trump Is A Fascist (VIDEO)   \n",
       "10632                               FULL TRANSCRIPT AND VIDEO From A Passionate AG Sessions: “Please hear me now…” [Video]   \n",
       "16989                                                  CIA chief says U.S.-Canadian couple held for five years in Pakistan   \n",
       "19906  HILLARY SUPPORTER AND MUSLIM IMMIGRANT Who Shot Up Mall Voted In Last 3 Elections…Isn’t An American Citizen [VIDEO]   \n",
       "18155                                                 Cambodian government files lawsuit to dissolve main opposition party   \n",
       "\n",
       "                                                                                                                                                                                                                                                                                                                                                                                                                  text  \\\n",
       "14379  While our eyes are on the invasion of Europe, we re being quietly invaded by Muslim  refugees  who re really not refugees at all. We need to put an end to the refugee resettlement program NOW! The State Department has admitted over 10,000 Somalis in  10 years! Minneapolis has been hit hardest with a crazy number of 4,868! If you think these people aren t coming here for the  goodies  like welf...   \n",
       "6643   During a rally in California, GOP presidential frontrunner Donald Trump praised a bogus historical incident where Muslims were shot by bullets dipped in pig s blood   to rapturous applause.It appears that neither Donald Trump, nor the crowd in Costa Mesa, are aware that there is no evidence this historical incident actually happened. Given the campaign s focus on rhetoric over fact to date, t ...   \n",
       "4127   Defending Satan is hard. That s what Kellyanne Conway learned during an appearance on MSNBC on Wednesday morning.With eleven hours to go before the third presidential debate kicks off, host Stephanie Ruhle relentlessly grilled Donald Trump s campaign manager on everything from the Republican nominee s claims that the election is  rigged  to the sexual assault allegations against him to him inv...   \n",
       "18546  Venues in New Jersey, New York and Pennsylvania and now California have all canceled their Kathy Griffin Celebrity Run-In shows. The Community Arts Theater in Williamsport, Pennsylvania, posted on its website that the show had been dropped  due to the recent controversy surrounding Kathy Griffin and the concern for the safety and security of our patrons and staff. Earlier this week, CNN said G...   \n",
       "13863  HARARE (Reuters) - Ousted Zimbabwe finance minister Ignatius Chombo, charged with three counts of corruption in offences that allegedly took place more than a decade ago, will be detained until Monday, when the court will rule on his bail application. Chombo was among those detained by the military when it seized power before Robert Mugabe resigned as president on Tuesday.  Several members of ...   \n",
       "7519   Veteran investigative reporter Carl Bernstein outed Donald Trump as a fascist on Sunday, and if you don t believe him just Google the definition of fascism and you ll see he s right.During an appearance on CNN, Bernstein was asked by Brian Stelter why he thinks Trump is a neo-fascist and the former Washington Post reporter who broke the Watergate scandal wide open in the 1970s obliged. It is a...   \n",
       "10632  FULL OPENING STATEMENT OF ATTORNEY GENERAL SESSIONS  STATEMENT: It was a very strong and passionate statement from a determined Sessions.FULL TRANSCRIPT:Thank you Chairman Burr and Ranking Member Warner for allowing me to publicly appear before the committee today.I appreciate the Committee s critically important efforts to investigate Russian interference with our democratic process. Such int...   \n",
       "16989  WASHINGTON (Reuters) - The head of the CIA said on Thursday a U.S.-Canadian couple kidnapped by Islamist militants in Afghanistan were held inside neighboring Pakistan for five years before being freed.       We had a great outcome last week when we were able to get back four U.S. citizens who had been held for five years inside of Pakistan,  CIA Director Mike Pompeo told the Foundation for De...   \n",
       "19906  This story is a perfect example of why Barack and Hillary are in such a big hurry to bring foreigners into our country. It doesn t matter if American citizens are on the hook to support them and their extended families for decades to come. What matters is how they vote, and it s pretty clear by this discovery about this Muslim immigrant, he not only supports Hillary, he s been ILLEGALLY voting...   \n",
       "18155  PHNOM PENH (Reuters) - Cambodian government lawyers filed a lawsuit on Friday to demand the dissolution of the main opposition party, in a move that would help Prime Minister Hun Sen extend his 32-year rule when the poor Southeast Asian nation votes in an election next year. The attempt to disband the Cambodia National Rescue Party (CNRP) comes after its leader, Kem Sokha, was charged with tre...   \n",
       "\n",
       "      target  \n",
       "14379      1  \n",
       "6643       1  \n",
       "4127       1  \n",
       "18546      1  \n",
       "13863      0  \n",
       "7519       1  \n",
       "10632      1  \n",
       "16989      0  \n",
       "19906      1  \n",
       "18155      0  "
      ]
     },
     "execution_count": 6,
     "metadata": {},
     "output_type": "execute_result"
    }
   ],
   "source": [
    "# examine random sample of rows\n",
    "news.sample(n=10)"
   ]
  },
  {
   "cell_type": "markdown",
   "id": "11059fcf",
   "metadata": {},
   "source": [
    "There is a lot of cleaning that will need to be done before this data is ready for modeling. From running the sampler above several times we can see that there are URLs in the text, along with punctuation, words that are fully capitalized, and the previously mentioned dateline information at the start of the real articles.\n",
    "\n",
    "Before we begin with any cleaning, we'll need to perform a train test split to avoid data leakage. For our initial modeling, we'll focus on the text of the article instead of the title. We'll leave the test size at the default value so we can train the model on about 34,000 rows of data and test it on the remaining 11,000."
   ]
  },
  {
   "cell_type": "code",
   "execution_count": 7,
   "id": "b6ee699d",
   "metadata": {},
   "outputs": [],
   "source": [
    "# define feature and target\n",
    "X = news.drop('target', axis = 1)\n",
    "y = news['target']\n",
    "\n",
    "# perform split\n",
    "X_train, X_test, y_train, y_test = train_test_split(X, y, random_state = 42)"
   ]
  },
  {
   "cell_type": "markdown",
   "id": "b3b6371e",
   "metadata": {},
   "source": [
    "Now that we've split the data, we can begin processing the text. Let's start with a few basic steps: making all the characters lowercase and removing punctuation."
   ]
  },
  {
   "cell_type": "code",
   "execution_count": 8,
   "id": "7fe5502a",
   "metadata": {},
   "outputs": [
    {
     "data": {
      "text/html": [
       "<div>\n",
       "<style scoped>\n",
       "    .dataframe tbody tr th:only-of-type {\n",
       "        vertical-align: middle;\n",
       "    }\n",
       "\n",
       "    .dataframe tbody tr th {\n",
       "        vertical-align: top;\n",
       "    }\n",
       "\n",
       "    .dataframe thead th {\n",
       "        text-align: right;\n",
       "    }\n",
       "</style>\n",
       "<table border=\"1\" class=\"dataframe\">\n",
       "  <thead>\n",
       "    <tr style=\"text-align: right;\">\n",
       "      <th></th>\n",
       "      <th>title</th>\n",
       "      <th>text</th>\n",
       "    </tr>\n",
       "  </thead>\n",
       "  <tbody>\n",
       "    <tr>\n",
       "      <th>13413</th>\n",
       "      <td>TRUMP DELIVERS MESSAGE TO PUTIN: “Russia, If You’re Listening…I Hope You’re Able To Find The 30,000 Emails That Are Missing” [VIDEO]</td>\n",
       "      <td>trump says he s never talked to putin and the allegation that he is working with him to expose hillary s emails is ridiculous. putin has been threatening the release of 20,000 emails from hillary s private server, and the press is trying to tie his threat to trump. unlike previous gop presidential candidates s trump s not going to sit back and allow the press to define the narrative. he s gett...</td>\n",
       "    </tr>\n",
       "    <tr>\n",
       "      <th>6018</th>\n",
       "      <td>Trump says he will 'absolutely do safe zones' in Syria</td>\n",
       "      <td>washington (reuters) - u.s. president donald trump said he “will absolutely do safe zones in syria” to protect people fleeing violence there. “i’ll absolutely do safe zones in syria for the people,” trump said in an interview with abc news broadcast on wednesday. “i think that europe has made a tremendous mistake by allowing these millions of people to go into germany and various other countri...</td>\n",
       "    </tr>\n",
       "  </tbody>\n",
       "</table>\n",
       "</div>"
      ],
      "text/plain": [
       "                                                                                                                                      title  \\\n",
       "13413  TRUMP DELIVERS MESSAGE TO PUTIN: “Russia, If You’re Listening…I Hope You’re Able To Find The 30,000 Emails That Are Missing” [VIDEO]   \n",
       "6018                                                                                 Trump says he will 'absolutely do safe zones' in Syria   \n",
       "\n",
       "                                                                                                                                                                                                                                                                                                                                                                                                                  text  \n",
       "13413  trump says he s never talked to putin and the allegation that he is working with him to expose hillary s emails is ridiculous. putin has been threatening the release of 20,000 emails from hillary s private server, and the press is trying to tie his threat to trump. unlike previous gop presidential candidates s trump s not going to sit back and allow the press to define the narrative. he s gett...  \n",
       "6018   washington (reuters) - u.s. president donald trump said he “will absolutely do safe zones in syria” to protect people fleeing violence there. “i’ll absolutely do safe zones in syria for the people,” trump said in an interview with abc news broadcast on wednesday. “i think that europe has made a tremendous mistake by allowing these millions of people to go into germany and various other countri...  "
      ]
     },
     "execution_count": 8,
     "metadata": {},
     "output_type": "execute_result"
    }
   ],
   "source": [
    "# make all characters lowercase\n",
    "X_train[\"text\"] = X_train[\"text\"].str.lower()\n",
    "X_train.head(2)"
   ]
  },
  {
   "cell_type": "markdown",
   "id": "55035a88",
   "metadata": {},
   "source": [
    "We also know that at least some of the articles include links to other websites, to Twitter accounts, to hashtags, or to images. These links won't contribute any semantic value to our model, so we should remove them as well. We can do so by using regex to replace URLs with blanks:"
   ]
  },
  {
   "cell_type": "code",
   "execution_count": 9,
   "id": "f0f9ed8b",
   "metadata": {},
   "outputs": [],
   "source": [
    "# replace links with blanks\n",
    "def replace_links(string):\n",
    "    '''\n",
    "    A function that takes in a string as an input. \n",
    "    \n",
    "    Uses a regex expression to detect URLs that start with http, https, pic.twitter, or www.; \n",
    "    Twitter account names (which start with @); and hashtags (which start with #) and replaces \n",
    "    them with a blank.\n",
    "    \n",
    "    Returns the string with that substitution made.\n",
    "    '''\n",
    "    url_pattern = r'(?:http|https|pic\\.twitter|www\\.)\\S+|@\\S+|^@\\S+|#\\S+'\n",
    "    return re.sub(url_pattern, '', string, flags=re.IGNORECASE)"
   ]
  },
  {
   "cell_type": "code",
   "execution_count": 10,
   "id": "b5fe2252",
   "metadata": {
    "scrolled": false
   },
   "outputs": [
    {
     "data": {
      "text/html": [
       "<div>\n",
       "<style scoped>\n",
       "    .dataframe tbody tr th:only-of-type {\n",
       "        vertical-align: middle;\n",
       "    }\n",
       "\n",
       "    .dataframe tbody tr th {\n",
       "        vertical-align: top;\n",
       "    }\n",
       "\n",
       "    .dataframe thead th {\n",
       "        text-align: right;\n",
       "    }\n",
       "</style>\n",
       "<table border=\"1\" class=\"dataframe\">\n",
       "  <thead>\n",
       "    <tr style=\"text-align: right;\">\n",
       "      <th></th>\n",
       "      <th>title</th>\n",
       "      <th>text</th>\n",
       "    </tr>\n",
       "  </thead>\n",
       "  <tbody>\n",
       "    <tr>\n",
       "      <th>16909</th>\n",
       "      <td>EU will cut some money for Turkey as ties sour</td>\n",
       "      <td>brussels (reuters) - the european union will cut some of the money earmarked for turkey to join the bloc, reflecting increasingly sour ties with ankara but stopping short of killing membership bid of the country it still sees as a strategic partner. the eu has been walking a tight rope for months on turkey, angered by president tayyip erdogan s crackdown on critics after a failed coup in july,...</td>\n",
       "    </tr>\n",
       "    <tr>\n",
       "      <th>13507</th>\n",
       "      <td>China vows more checks on teachers after kindergarten abuse scandal</td>\n",
       "      <td>beijing (reuters) - china on thursday pledged stiffer oversight of preschool teachers, including closer checks on their qualifications, following an outcry over allegations of child abuse at a private kindergarten in beijing.  the case has become a lighting rod for anger at a lack of trained teachers, low wages and poor oversight in china s massive and fast-growing private pre-school sector. c...</td>\n",
       "    </tr>\n",
       "    <tr>\n",
       "      <th>6412</th>\n",
       "      <td>Tillerson says would support maintaining Russia sanctions for now</td>\n",
       "      <td>washington (reuters) - president-elect donald trump’s nominee for u.s. secretary of state, rex tillerson, said on wednesday he would support maintaining u.s. sanctions on russia until the united states further develops its approach to the country. “i would leave things in the status quo so we are able to convey this can go either way,” tillerson said during his confirmation hearing, in respons...</td>\n",
       "    </tr>\n",
       "    <tr>\n",
       "      <th>12003</th>\n",
       "      <td>THE OBAMAS MILK EVERY LAST MINUTE: Will Throw Final Taxpayer Funded Bash For “Major Donors”</td>\n",
       "      <td>of course, there s no official word from the white house yet. typically the obama administration keeps a tight lid on celebration details until the 11th hour. but the big names thought to be on the guest list have been slowly trickling out this week.old standbys such as singer usher and actor samuel l. jackson will most likely be there, according to another person with knowledge of the invitee...</td>\n",
       "    </tr>\n",
       "    <tr>\n",
       "      <th>13969</th>\n",
       "      <td>NOT KIDDING: ARIZONA NEWSPAPER Concerned Border Fence Too High For Illegals To Cross Safely</td>\n",
       "      <td>when the fence keeps them from making it to the polls, the democrats start complaining  a mainstream arizona newspaper is decrying the small section of the arizona-mexico border that has a 14-foot-high primary fence because it is too high for illegal immigrants to safely cross. the article,  border fence jumpers breaking bones,  includes the claim that sections of the border with a 14-foot-hig...</td>\n",
       "    </tr>\n",
       "    <tr>\n",
       "      <th>20816</th>\n",
       "      <td>WATCH: HILARIOUS AD Calls Into Question Health Of Aging Clinton Crime Family Bosses</td>\n",
       "      <td>after watching this telling video, you ll wonder if instead of working so hard to get back into the white house, hillary s time would be better spent looking into an assisted living situation for her and bill</td>\n",
       "    </tr>\n",
       "    <tr>\n",
       "      <th>20195</th>\n",
       "      <td>Juncker chides EU candidate Turkey, upbeat on Western Balkans</td>\n",
       "      <td>strasbourg (reuters) - the president of the european commission said on wednesday he saw no prospect of turkey joining the eu in  the foreseeable future  but he had a more optimistic message for six western balkan nations also seeking membership. the european union has become increasingly critical of turkey s decades-long membership drive after president tayyip erdogan launched a major crackdo...</td>\n",
       "    </tr>\n",
       "    <tr>\n",
       "      <th>10826</th>\n",
       "      <td>IS TIM ALLEN’S “Last Man Standing” About To Be Revived After “Passionate” Conservatives Express Outrage Over ABC’s Decision To Cancel Show?</td>\n",
       "      <td>tim allen took to twitter to express his disappointment after discovering that the second highest rated comedy tv series on abc,  last man standing  was going to be cancelled:stunned and blindsided by the network i called home for the last six years.   tim allen ( may 16, 2017many of his fans commented in support of his courage to stand up for his conservative views:thanks for standing up and ...</td>\n",
       "    </tr>\n",
       "    <tr>\n",
       "      <th>8651</th>\n",
       "      <td>Trump pulls nearly even with Clinton after Republican convention: Reuters/Ipsos poll</td>\n",
       "      <td>new york (reuters) - republican presidential nominee donald trump has pulled nearly even with democratic rival hillary clinton for the first time since may, according to a reuters/ipsos poll taken over the course of the republican national convention in cleveland this week.  the july 18-22 national online poll found that 41 percent of likely voters supported clinton, while 38 percent supporte...</td>\n",
       "    </tr>\n",
       "    <tr>\n",
       "      <th>12090</th>\n",
       "      <td>MUST WATCH! New VIDEO Emerges Of Hillary Leaving NYC After FINALLY Losing The Election For The Last Time</td>\n",
       "      <td>hillary may have finally lost the election yesterday, but to her credit, she had her head held high when she was spotted leaving new york.   tim young ( december 20, 2016</td>\n",
       "    </tr>\n",
       "  </tbody>\n",
       "</table>\n",
       "</div>"
      ],
      "text/plain": [
       "                                                                                                                                             title  \\\n",
       "16909                                                                                               EU will cut some money for Turkey as ties sour   \n",
       "13507                                                                          China vows more checks on teachers after kindergarten abuse scandal   \n",
       "6412                                                                             Tillerson says would support maintaining Russia sanctions for now   \n",
       "12003                                                  THE OBAMAS MILK EVERY LAST MINUTE: Will Throw Final Taxpayer Funded Bash For “Major Donors”   \n",
       "13969                                                  NOT KIDDING: ARIZONA NEWSPAPER Concerned Border Fence Too High For Illegals To Cross Safely   \n",
       "20816                                                          WATCH: HILARIOUS AD Calls Into Question Health Of Aging Clinton Crime Family Bosses   \n",
       "20195                                                                                Juncker chides EU candidate Turkey, upbeat on Western Balkans   \n",
       "10826  IS TIM ALLEN’S “Last Man Standing” About To Be Revived After “Passionate” Conservatives Express Outrage Over ABC’s Decision To Cancel Show?   \n",
       "8651                                                          Trump pulls nearly even with Clinton after Republican convention: Reuters/Ipsos poll   \n",
       "12090                                     MUST WATCH! New VIDEO Emerges Of Hillary Leaving NYC After FINALLY Losing The Election For The Last Time   \n",
       "\n",
       "                                                                                                                                                                                                                                                                                                                                                                                                                  text  \n",
       "16909  brussels (reuters) - the european union will cut some of the money earmarked for turkey to join the bloc, reflecting increasingly sour ties with ankara but stopping short of killing membership bid of the country it still sees as a strategic partner. the eu has been walking a tight rope for months on turkey, angered by president tayyip erdogan s crackdown on critics after a failed coup in july,...  \n",
       "13507  beijing (reuters) - china on thursday pledged stiffer oversight of preschool teachers, including closer checks on their qualifications, following an outcry over allegations of child abuse at a private kindergarten in beijing.  the case has become a lighting rod for anger at a lack of trained teachers, low wages and poor oversight in china s massive and fast-growing private pre-school sector. c...  \n",
       "6412   washington (reuters) - president-elect donald trump’s nominee for u.s. secretary of state, rex tillerson, said on wednesday he would support maintaining u.s. sanctions on russia until the united states further develops its approach to the country. “i would leave things in the status quo so we are able to convey this can go either way,” tillerson said during his confirmation hearing, in respons...  \n",
       "12003  of course, there s no official word from the white house yet. typically the obama administration keeps a tight lid on celebration details until the 11th hour. but the big names thought to be on the guest list have been slowly trickling out this week.old standbys such as singer usher and actor samuel l. jackson will most likely be there, according to another person with knowledge of the invitee...  \n",
       "13969  when the fence keeps them from making it to the polls, the democrats start complaining  a mainstream arizona newspaper is decrying the small section of the arizona-mexico border that has a 14-foot-high primary fence because it is too high for illegal immigrants to safely cross. the article,  border fence jumpers breaking bones,  includes the claim that sections of the border with a 14-foot-hig...  \n",
       "20816                                                                                                                                                                                                after watching this telling video, you ll wonder if instead of working so hard to get back into the white house, hillary s time would be better spent looking into an assisted living situation for her and bill   \n",
       "20195  strasbourg (reuters) - the president of the european commission said on wednesday he saw no prospect of turkey joining the eu in  the foreseeable future  but he had a more optimistic message for six western balkan nations also seeking membership. the european union has become increasingly critical of turkey s decades-long membership drive after president tayyip erdogan launched a major crackdo...  \n",
       "10826  tim allen took to twitter to express his disappointment after discovering that the second highest rated comedy tv series on abc,  last man standing  was going to be cancelled:stunned and blindsided by the network i called home for the last six years.   tim allen ( may 16, 2017many of his fans commented in support of his courage to stand up for his conservative views:thanks for standing up and ...  \n",
       "8651    new york (reuters) - republican presidential nominee donald trump has pulled nearly even with democratic rival hillary clinton for the first time since may, according to a reuters/ipsos poll taken over the course of the republican national convention in cleveland this week.  the july 18-22 national online poll found that 41 percent of likely voters supported clinton, while 38 percent supporte...  \n",
       "12090                                                                                                                                                                                                                                       hillary may have finally lost the election yesterday, but to her credit, she had her head held high when she was spotted leaving new york.   tim young ( december 20, 2016  "
      ]
     },
     "execution_count": 10,
     "metadata": {},
     "output_type": "execute_result"
    }
   ],
   "source": [
    "# map this function onto the text column\n",
    "X_train['text'] = X_train['text'].map(replace_links)\n",
    "X_train.sample(n=10, random_state = 270)"
   ]
  },
  {
   "cell_type": "markdown",
   "id": "fd811d4f",
   "metadata": {},
   "source": [
    "### Removing 'Reuters' to Avoid Leakage"
   ]
  },
  {
   "cell_type": "markdown",
   "id": "48c6408e",
   "metadata": {},
   "source": [
    "From our visual examination of the corpus earlier, we also saw that \"Reuters\" is in nearly every \"real\" article, and very few of the \"fake\" ones."
   ]
  },
  {
   "cell_type": "code",
   "execution_count": 11,
   "id": "4cc14e4c",
   "metadata": {},
   "outputs": [
    {
     "name": "stdout",
     "output_type": "stream",
     "text": [
      "The word Reuters appears in 21378 out of 21417 total real news articles.\n",
      "The word Reuters appears in 311 out of 23481 total fake news articles.\n"
     ]
    }
   ],
   "source": [
    "# Create a boolean mask indicating which rows contain the word \"Reuters\"\n",
    "real_reuters_mask = realnews['text'].str.contains('Reuters').sum()\n",
    "fake_reuters_mask = fakenews['text'].str.contains('Reuters').sum()\n",
    "\n",
    "# Print the boolean mask\n",
    "print(f'The word Reuters appears in {real_reuters_mask} out of {realnews.shape[0]} total real news articles.')\n",
    "print(f'The word Reuters appears in {fake_reuters_mask} out of {fakenews.shape[0]} total fake news articles.')"
   ]
  },
  {
   "cell_type": "markdown",
   "id": "d90191e5",
   "metadata": {},
   "source": [
    "If we leave Reuters in, it will almost certainly artificially inflate the accuracy of our model because it would be able to lean almost exclusively on the presence of dateline information in making its classification decisions. Based on this imbalance, it seems we should remove the word Reuters from our corpus as well. Let's do that now:"
   ]
  },
  {
   "cell_type": "code",
   "execution_count": 12,
   "id": "963acd0d",
   "metadata": {},
   "outputs": [
    {
     "data": {
      "text/html": [
       "<div>\n",
       "<style scoped>\n",
       "    .dataframe tbody tr th:only-of-type {\n",
       "        vertical-align: middle;\n",
       "    }\n",
       "\n",
       "    .dataframe tbody tr th {\n",
       "        vertical-align: top;\n",
       "    }\n",
       "\n",
       "    .dataframe thead th {\n",
       "        text-align: right;\n",
       "    }\n",
       "</style>\n",
       "<table border=\"1\" class=\"dataframe\">\n",
       "  <thead>\n",
       "    <tr style=\"text-align: right;\">\n",
       "      <th></th>\n",
       "      <th>title</th>\n",
       "      <th>text</th>\n",
       "    </tr>\n",
       "  </thead>\n",
       "  <tbody>\n",
       "    <tr>\n",
       "      <th>16909</th>\n",
       "      <td>EU will cut some money for Turkey as ties sour</td>\n",
       "      <td>brussels () - the european union will cut some of the money earmarked for turkey to join the bloc, reflecting increasingly sour ties with ankara but stopping short of killing membership bid of the country it still sees as a strategic partner. the eu has been walking a tight rope for months on turkey, angered by president tayyip erdogan s crackdown on critics after a failed coup in july, 2016, ...</td>\n",
       "    </tr>\n",
       "    <tr>\n",
       "      <th>13507</th>\n",
       "      <td>China vows more checks on teachers after kindergarten abuse scandal</td>\n",
       "      <td>beijing () - china on thursday pledged stiffer oversight of preschool teachers, including closer checks on their qualifications, following an outcry over allegations of child abuse at a private kindergarten in beijing.  the case has become a lighting rod for anger at a lack of trained teachers, low wages and poor oversight in china s massive and fast-growing private pre-school sector. claims t...</td>\n",
       "    </tr>\n",
       "    <tr>\n",
       "      <th>6412</th>\n",
       "      <td>Tillerson says would support maintaining Russia sanctions for now</td>\n",
       "      <td>washington () - president-elect donald trump’s nominee for u.s. secretary of state, rex tillerson, said on wednesday he would support maintaining u.s. sanctions on russia until the united states further develops its approach to the country. “i would leave things in the status quo so we are able to convey this can go either way,” tillerson said during his confirmation hearing, in response to a ...</td>\n",
       "    </tr>\n",
       "    <tr>\n",
       "      <th>12003</th>\n",
       "      <td>THE OBAMAS MILK EVERY LAST MINUTE: Will Throw Final Taxpayer Funded Bash For “Major Donors”</td>\n",
       "      <td>of course, there s no official word from the white house yet. typically the obama administration keeps a tight lid on celebration details until the 11th hour. but the big names thought to be on the guest list have been slowly trickling out this week.old standbys such as singer usher and actor samuel l. jackson will most likely be there, according to another person with knowledge of the invitee...</td>\n",
       "    </tr>\n",
       "    <tr>\n",
       "      <th>13969</th>\n",
       "      <td>NOT KIDDING: ARIZONA NEWSPAPER Concerned Border Fence Too High For Illegals To Cross Safely</td>\n",
       "      <td>when the fence keeps them from making it to the polls, the democrats start complaining  a mainstream arizona newspaper is decrying the small section of the arizona-mexico border that has a 14-foot-high primary fence because it is too high for illegal immigrants to safely cross. the article,  border fence jumpers breaking bones,  includes the claim that sections of the border with a 14-foot-hig...</td>\n",
       "    </tr>\n",
       "    <tr>\n",
       "      <th>20816</th>\n",
       "      <td>WATCH: HILARIOUS AD Calls Into Question Health Of Aging Clinton Crime Family Bosses</td>\n",
       "      <td>after watching this telling video, you ll wonder if instead of working so hard to get back into the white house, hillary s time would be better spent looking into an assisted living situation for her and bill</td>\n",
       "    </tr>\n",
       "    <tr>\n",
       "      <th>20195</th>\n",
       "      <td>Juncker chides EU candidate Turkey, upbeat on Western Balkans</td>\n",
       "      <td>strasbourg () - the president of the european commission said on wednesday he saw no prospect of turkey joining the eu in  the foreseeable future  but he had a more optimistic message for six western balkan nations also seeking membership. the european union has become increasingly critical of turkey s decades-long membership drive after president tayyip erdogan launched a major crackdown on c...</td>\n",
       "    </tr>\n",
       "    <tr>\n",
       "      <th>10826</th>\n",
       "      <td>IS TIM ALLEN’S “Last Man Standing” About To Be Revived After “Passionate” Conservatives Express Outrage Over ABC’s Decision To Cancel Show?</td>\n",
       "      <td>tim allen took to twitter to express his disappointment after discovering that the second highest rated comedy tv series on abc,  last man standing  was going to be cancelled:stunned and blindsided by the network i called home for the last six years.   tim allen ( may 16, 2017many of his fans commented in support of his courage to stand up for his conservative views:thanks for standing up and ...</td>\n",
       "    </tr>\n",
       "    <tr>\n",
       "      <th>8651</th>\n",
       "      <td>Trump pulls nearly even with Clinton after Republican convention: Reuters/Ipsos poll</td>\n",
       "      <td>new york () - republican presidential nominee donald trump has pulled nearly even with democratic rival hillary clinton for the first time since may, according to a /ipsos poll taken over the course of the republican national convention in cleveland this week.  the july 18-22 national online poll found that 41 percent of likely voters supported clinton, while 38 percent supported trump. given...</td>\n",
       "    </tr>\n",
       "    <tr>\n",
       "      <th>12090</th>\n",
       "      <td>MUST WATCH! New VIDEO Emerges Of Hillary Leaving NYC After FINALLY Losing The Election For The Last Time</td>\n",
       "      <td>hillary may have finally lost the election yesterday, but to her credit, she had her head held high when she was spotted leaving new york.   tim young ( december 20, 2016</td>\n",
       "    </tr>\n",
       "  </tbody>\n",
       "</table>\n",
       "</div>"
      ],
      "text/plain": [
       "                                                                                                                                             title  \\\n",
       "16909                                                                                               EU will cut some money for Turkey as ties sour   \n",
       "13507                                                                          China vows more checks on teachers after kindergarten abuse scandal   \n",
       "6412                                                                             Tillerson says would support maintaining Russia sanctions for now   \n",
       "12003                                                  THE OBAMAS MILK EVERY LAST MINUTE: Will Throw Final Taxpayer Funded Bash For “Major Donors”   \n",
       "13969                                                  NOT KIDDING: ARIZONA NEWSPAPER Concerned Border Fence Too High For Illegals To Cross Safely   \n",
       "20816                                                          WATCH: HILARIOUS AD Calls Into Question Health Of Aging Clinton Crime Family Bosses   \n",
       "20195                                                                                Juncker chides EU candidate Turkey, upbeat on Western Balkans   \n",
       "10826  IS TIM ALLEN’S “Last Man Standing” About To Be Revived After “Passionate” Conservatives Express Outrage Over ABC’s Decision To Cancel Show?   \n",
       "8651                                                          Trump pulls nearly even with Clinton after Republican convention: Reuters/Ipsos poll   \n",
       "12090                                     MUST WATCH! New VIDEO Emerges Of Hillary Leaving NYC After FINALLY Losing The Election For The Last Time   \n",
       "\n",
       "                                                                                                                                                                                                                                                                                                                                                                                                                  text  \n",
       "16909  brussels () - the european union will cut some of the money earmarked for turkey to join the bloc, reflecting increasingly sour ties with ankara but stopping short of killing membership bid of the country it still sees as a strategic partner. the eu has been walking a tight rope for months on turkey, angered by president tayyip erdogan s crackdown on critics after a failed coup in july, 2016, ...  \n",
       "13507  beijing () - china on thursday pledged stiffer oversight of preschool teachers, including closer checks on their qualifications, following an outcry over allegations of child abuse at a private kindergarten in beijing.  the case has become a lighting rod for anger at a lack of trained teachers, low wages and poor oversight in china s massive and fast-growing private pre-school sector. claims t...  \n",
       "6412   washington () - president-elect donald trump’s nominee for u.s. secretary of state, rex tillerson, said on wednesday he would support maintaining u.s. sanctions on russia until the united states further develops its approach to the country. “i would leave things in the status quo so we are able to convey this can go either way,” tillerson said during his confirmation hearing, in response to a ...  \n",
       "12003  of course, there s no official word from the white house yet. typically the obama administration keeps a tight lid on celebration details until the 11th hour. but the big names thought to be on the guest list have been slowly trickling out this week.old standbys such as singer usher and actor samuel l. jackson will most likely be there, according to another person with knowledge of the invitee...  \n",
       "13969  when the fence keeps them from making it to the polls, the democrats start complaining  a mainstream arizona newspaper is decrying the small section of the arizona-mexico border that has a 14-foot-high primary fence because it is too high for illegal immigrants to safely cross. the article,  border fence jumpers breaking bones,  includes the claim that sections of the border with a 14-foot-hig...  \n",
       "20816                                                                                                                                                                                                after watching this telling video, you ll wonder if instead of working so hard to get back into the white house, hillary s time would be better spent looking into an assisted living situation for her and bill   \n",
       "20195  strasbourg () - the president of the european commission said on wednesday he saw no prospect of turkey joining the eu in  the foreseeable future  but he had a more optimistic message for six western balkan nations also seeking membership. the european union has become increasingly critical of turkey s decades-long membership drive after president tayyip erdogan launched a major crackdown on c...  \n",
       "10826  tim allen took to twitter to express his disappointment after discovering that the second highest rated comedy tv series on abc,  last man standing  was going to be cancelled:stunned and blindsided by the network i called home for the last six years.   tim allen ( may 16, 2017many of his fans commented in support of his courage to stand up for his conservative views:thanks for standing up and ...  \n",
       "8651    new york () - republican presidential nominee donald trump has pulled nearly even with democratic rival hillary clinton for the first time since may, according to a /ipsos poll taken over the course of the republican national convention in cleveland this week.  the july 18-22 national online poll found that 41 percent of likely voters supported clinton, while 38 percent supported trump. given...  \n",
       "12090                                                                                                                                                                                                                                       hillary may have finally lost the election yesterday, but to her credit, she had her head held high when she was spotted leaving new york.   tim young ( december 20, 2016  "
      ]
     },
     "execution_count": 12,
     "metadata": {},
     "output_type": "execute_result"
    }
   ],
   "source": [
    "X_train['text'] = X_train['text'].str.replace('reuters', '')\n",
    "X_train.sample(n=10, random_state = 270)"
   ]
  },
  {
   "cell_type": "markdown",
   "id": "3aac4a8c",
   "metadata": {},
   "source": [
    "Excellent - now we've removed links and the word \"Reuters\" from our corpus. Next, let's tokenize the corpus. Tokenization is important because it will ultimately allow us to vectorize our corpus, which is necessary for modeling. From visually examining this corpus, it appears that a fair number of the \"fake\" news articles have spelling issues that could lead to the creation of features that aren't useful for our modeling (e.g. missing apostrophes in contractions that would lead to the creation of meaningless one- or two- character tokens). There are also quite a few punctuation characters that were not captured as part of the cleaning above that need to be removed.\n",
    "\n",
    "### Tokenizing the Text\n",
    "Consequently, we'll tokenize our corpus using nltk's \"RegexpTokenizer\" method to select all words with three or more letters to capture words, or four or more consecutive numbers to capture years or large dollar amounts."
   ]
  },
  {
   "cell_type": "code",
   "execution_count": 13,
   "id": "8cbd1d28",
   "metadata": {},
   "outputs": [
    {
     "data": {
      "text/html": [
       "<div>\n",
       "<style scoped>\n",
       "    .dataframe tbody tr th:only-of-type {\n",
       "        vertical-align: middle;\n",
       "    }\n",
       "\n",
       "    .dataframe tbody tr th {\n",
       "        vertical-align: top;\n",
       "    }\n",
       "\n",
       "    .dataframe thead th {\n",
       "        text-align: right;\n",
       "    }\n",
       "</style>\n",
       "<table border=\"1\" class=\"dataframe\">\n",
       "  <thead>\n",
       "    <tr style=\"text-align: right;\">\n",
       "      <th></th>\n",
       "      <th>title</th>\n",
       "      <th>text</th>\n",
       "      <th>tokenized_text</th>\n",
       "    </tr>\n",
       "  </thead>\n",
       "  <tbody>\n",
       "    <tr>\n",
       "      <th>13413</th>\n",
       "      <td>TRUMP DELIVERS MESSAGE TO PUTIN: “Russia, If You’re Listening…I Hope You’re Able To Find The 30,000 Emails That Are Missing” [VIDEO]</td>\n",
       "      <td>trump says he s never talked to putin and the allegation that he is working with him to expose hillary s emails is ridiculous. putin has been threatening the release of 20,000 emails from hillary s private server, and the press is trying to tie his threat to trump. unlike previous gop presidential candidates s trump s not going to sit back and allow the press to define the narrative. he s gett...</td>\n",
       "      <td>[trump, says, never, talked, putin, and, the, allegation, that, working, with, him, expose, hillary, emails, ridiculous, putin, has, been, threatening, the, release, emails, from, hillary, private, server, and, the, press, trying, tie, his, threat, trump, unlike, previous, gop, presidential, candidates, trump, not, going, sit, back, and, allow, the, press, define, the, narrative, getting, out,...</td>\n",
       "    </tr>\n",
       "    <tr>\n",
       "      <th>6018</th>\n",
       "      <td>Trump says he will 'absolutely do safe zones' in Syria</td>\n",
       "      <td>washington () - u.s. president donald trump said he “will absolutely do safe zones in syria” to protect people fleeing violence there. “i’ll absolutely do safe zones in syria for the people,” trump said in an interview with abc news broadcast on wednesday. “i think that europe has made a tremendous mistake by allowing these millions of people to go into germany and various other countries,” he...</td>\n",
       "      <td>[washington, president, donald, trump, said, will, absolutely, safe, zones, syria, protect, people, fleeing, violence, there, absolutely, safe, zones, syria, for, the, people, trump, said, interview, with, abc, news, broadcast, wednesday, think, that, europe, has, made, tremendous, mistake, allowing, these, millions, people, into, germany, and, various, other, countries, said]</td>\n",
       "    </tr>\n",
       "    <tr>\n",
       "      <th>21132</th>\n",
       "      <td>MUSLIM BROTHERHOOD AFFILIATE INVITED To Obama’s State Of The Union…Will This Terror Group Also Be Invited?</td>\n",
       "      <td>so in an effort to reach out to muslims living in america, we need to invite groups that are tied to terrorists? why stop at groups like cair? why not invite isis? perhaps we missed it, but we haven t seen the list of prominent christian leaders invited to obama s sotu, who will represent the worldwide mass persecution of christians as many as 25 house democrats are expected to have muslim gue...</td>\n",
       "      <td>[effort, reach, out, muslims, living, america, need, invite, groups, that, are, tied, terrorists, why, stop, groups, like, cair, why, not, invite, isis, perhaps, missed, but, haven, seen, the, list, prominent, christian, leaders, invited, obama, sotu, who, will, represent, the, worldwide, mass, persecution, christians, many, house, democrats, are, expected, have, muslim, guests, during, tuesda...</td>\n",
       "    </tr>\n",
       "    <tr>\n",
       "      <th>8670</th>\n",
       "      <td>Kerry says U.S. remains committed to NATO alliance, security commitments</td>\n",
       "      <td>washington () - the obama administration, like every u.s. administration since 1949, remained committed to the nato military alliance and  security commitments under the treaty, u.s. secretary of state john kerry said on thursday.  “i want our nato partner to be clear where we stand. this administration, like every single administration republican or democratic alike since 1949, remains fully ...</td>\n",
       "      <td>[washington, the, obama, administration, like, every, administration, since, 1949, remained, committed, the, nato, military, alliance, and, security, commitments, under, the, treaty, secretary, state, john, kerry, said, thursday, want, our, nato, partner, clear, where, stand, this, administration, like, every, single, administration, republican, democratic, alike, since, 1949, remains, fully, ...</td>\n",
       "    </tr>\n",
       "    <tr>\n",
       "      <th>5826</th>\n",
       "      <td>Trump Posed With Pastor Who Said Gays Work For The Antichrist (IMAGE)</td>\n",
       "      <td>in the days following the massacre at the pulse nightclub in orlando, donald trump has tried to claim that he is a better ally to lgbt americans than hillary clinton. trump said: hillary clinton can never claim to be a friend of the gay community as long as she continues to support immigration policies that bring islamic extremists into our country and who suppress women, gays and anyone else ...</td>\n",
       "      <td>[the, days, following, the, massacre, the, pulse, nightclub, orlando, donald, trump, has, tried, claim, that, better, ally, lgbt, americans, than, hillary, clinton, trump, said, hillary, clinton, can, never, claim, friend, the, gay, community, long, she, continues, support, immigration, policies, that, bring, islamic, extremists, into, our, country, and, who, suppress, women, gays, and, anyone...</td>\n",
       "    </tr>\n",
       "  </tbody>\n",
       "</table>\n",
       "</div>"
      ],
      "text/plain": [
       "                                                                                                                                      title  \\\n",
       "13413  TRUMP DELIVERS MESSAGE TO PUTIN: “Russia, If You’re Listening…I Hope You’re Able To Find The 30,000 Emails That Are Missing” [VIDEO]   \n",
       "6018                                                                                 Trump says he will 'absolutely do safe zones' in Syria   \n",
       "21132                            MUSLIM BROTHERHOOD AFFILIATE INVITED To Obama’s State Of The Union…Will This Terror Group Also Be Invited?   \n",
       "8670                                                               Kerry says U.S. remains committed to NATO alliance, security commitments   \n",
       "5826                                                                  Trump Posed With Pastor Who Said Gays Work For The Antichrist (IMAGE)   \n",
       "\n",
       "                                                                                                                                                                                                                                                                                                                                                                                                                  text  \\\n",
       "13413  trump says he s never talked to putin and the allegation that he is working with him to expose hillary s emails is ridiculous. putin has been threatening the release of 20,000 emails from hillary s private server, and the press is trying to tie his threat to trump. unlike previous gop presidential candidates s trump s not going to sit back and allow the press to define the narrative. he s gett...   \n",
       "6018   washington () - u.s. president donald trump said he “will absolutely do safe zones in syria” to protect people fleeing violence there. “i’ll absolutely do safe zones in syria for the people,” trump said in an interview with abc news broadcast on wednesday. “i think that europe has made a tremendous mistake by allowing these millions of people to go into germany and various other countries,” he...   \n",
       "21132  so in an effort to reach out to muslims living in america, we need to invite groups that are tied to terrorists? why stop at groups like cair? why not invite isis? perhaps we missed it, but we haven t seen the list of prominent christian leaders invited to obama s sotu, who will represent the worldwide mass persecution of christians as many as 25 house democrats are expected to have muslim gue...   \n",
       "8670   washington () - the obama administration, like every u.s. administration since 1949, remained committed to the nato military alliance and  security commitments under the treaty, u.s. secretary of state john kerry said on thursday.  “i want our nato partner to be clear where we stand. this administration, like every single administration republican or democratic alike since 1949, remains fully ...   \n",
       "5826   in the days following the massacre at the pulse nightclub in orlando, donald trump has tried to claim that he is a better ally to lgbt americans than hillary clinton. trump said: hillary clinton can never claim to be a friend of the gay community as long as she continues to support immigration policies that bring islamic extremists into our country and who suppress women, gays and anyone else ...   \n",
       "\n",
       "                                                                                                                                                                                                                                                                                                                                                                                                        tokenized_text  \n",
       "13413  [trump, says, never, talked, putin, and, the, allegation, that, working, with, him, expose, hillary, emails, ridiculous, putin, has, been, threatening, the, release, emails, from, hillary, private, server, and, the, press, trying, tie, his, threat, trump, unlike, previous, gop, presidential, candidates, trump, not, going, sit, back, and, allow, the, press, define, the, narrative, getting, out,...  \n",
       "6018                       [washington, president, donald, trump, said, will, absolutely, safe, zones, syria, protect, people, fleeing, violence, there, absolutely, safe, zones, syria, for, the, people, trump, said, interview, with, abc, news, broadcast, wednesday, think, that, europe, has, made, tremendous, mistake, allowing, these, millions, people, into, germany, and, various, other, countries, said]  \n",
       "21132  [effort, reach, out, muslims, living, america, need, invite, groups, that, are, tied, terrorists, why, stop, groups, like, cair, why, not, invite, isis, perhaps, missed, but, haven, seen, the, list, prominent, christian, leaders, invited, obama, sotu, who, will, represent, the, worldwide, mass, persecution, christians, many, house, democrats, are, expected, have, muslim, guests, during, tuesda...  \n",
       "8670   [washington, the, obama, administration, like, every, administration, since, 1949, remained, committed, the, nato, military, alliance, and, security, commitments, under, the, treaty, secretary, state, john, kerry, said, thursday, want, our, nato, partner, clear, where, stand, this, administration, like, every, single, administration, republican, democratic, alike, since, 1949, remains, fully, ...  \n",
       "5826   [the, days, following, the, massacre, the, pulse, nightclub, orlando, donald, trump, has, tried, claim, that, better, ally, lgbt, americans, than, hillary, clinton, trump, said, hillary, clinton, can, never, claim, friend, the, gay, community, long, she, continues, support, immigration, policies, that, bring, islamic, extremists, into, our, country, and, who, suppress, women, gays, and, anyone...  "
      ]
     },
     "execution_count": 13,
     "metadata": {},
     "output_type": "execute_result"
    }
   ],
   "source": [
    "# define token pattern\n",
    "basic_token_pattern = r\"(?u)\\b([a-zA-Z]{3,}|\\d{4,})\\b\"\n",
    "\n",
    "# instantiate tokenizer\n",
    "tokenizer = RegexpTokenizer(basic_token_pattern)\n",
    "\n",
    "# tokenize corpus text and return in a new column\n",
    "X_train['tokenized_text'] = X_train['text'].apply(tokenizer.tokenize)\n",
    "\n",
    "# inspect tokenized text\n",
    "X_train.head()"
   ]
  },
  {
   "cell_type": "markdown",
   "id": "1abb180d",
   "metadata": {},
   "source": [
    "Now that we've tokenized each article, we can construct a frequency distribution for our data to see which words appear the most commonly:"
   ]
  },
  {
   "cell_type": "code",
   "execution_count": 14,
   "id": "56841129",
   "metadata": {},
   "outputs": [],
   "source": [
    "# with gratitude to the Flatiron School for this function\n",
    "def visualize_top_10(freq_dist, title):\n",
    "\n",
    "    # Extract data for plotting\n",
    "    top_10 = list(zip(*freq_dist.most_common(10)))\n",
    "    tokens = top_10[0]\n",
    "    counts = top_10[1]\n",
    "\n",
    "    # Set up plot and plot data\n",
    "    fig, ax = plt.subplots()\n",
    "    ax.bar(tokens, counts)\n",
    "\n",
    "    # Customize plot appearance\n",
    "    ax.set_title(title)\n",
    "    ax.set_ylabel(\"Count\")\n",
    "    ax.yaxis.set_major_locator(MaxNLocator(integer=True))\n",
    "    ax.tick_params(axis=\"x\", rotation=90)"
   ]
  },
  {
   "cell_type": "code",
   "execution_count": 15,
   "id": "44b2894d",
   "metadata": {},
   "outputs": [
    {
     "data": {
      "image/png": "[encoded data removed]",
      "text/plain": [
       "<Figure size 640x480 with 1 Axes>"
      ]
     },
     "metadata": {},
     "output_type": "display_data"
    }
   ],
   "source": [
    "# Create a frequency distribution for X_train\n",
    "train_freq_dist = FreqDist(X_train[\"tokenized_text\"].explode())\n",
    "\n",
    "# Plot the top 10 tokens\n",
    "visualize_top_10(train_freq_dist, \"Top 10 Word Frequency for Training Set\")"
   ]
  },
  {
   "cell_type": "markdown",
   "id": "225ef808",
   "metadata": {},
   "source": [
    "There are a lot of common, non-descriptive words in the top 10. We'll likely want to remove those down the line, but for our baseline model we'll leave them in. Before we can create this model, we have to flatten the corpus so that it can be interpreted by the computer."
   ]
  },
  {
   "cell_type": "code",
   "execution_count": 16,
   "id": "8a3463a8",
   "metadata": {},
   "outputs": [
    {
     "data": {
      "text/plain": [
       "0              trump\n",
       "1               says\n",
       "2              never\n",
       "3             talked\n",
       "4              putin\n",
       "              ...   \n",
       "10960624    pakistan\n",
       "10960625         sri\n",
       "10960626       lanka\n",
       "10960627         and\n",
       "10960628       syria\n",
       "Length: 10960629, dtype: object"
      ]
     },
     "execution_count": 16,
     "metadata": {},
     "output_type": "execute_result"
    }
   ],
   "source": [
    "flattened_Xtrain = pd.Series(list(itertools.chain(*X_train['tokenized_text'])))\n",
    "flattened_Xtrain"
   ]
  },
  {
   "cell_type": "markdown",
   "id": "dea1192d",
   "metadata": {},
   "source": [
    "There are nearly 11 million tokens in our corpus! How many of them are unique?"
   ]
  },
  {
   "cell_type": "code",
   "execution_count": 17,
   "id": "8103d168",
   "metadata": {},
   "outputs": [
    {
     "name": "stdout",
     "output_type": "stream",
     "text": [
      "88221\n"
     ]
    }
   ],
   "source": [
    "print(len(pd.Series(flattened_Xtrain.unique())))"
   ]
  },
  {
   "cell_type": "markdown",
   "id": "84bad16c",
   "metadata": {},
   "source": [
    "That's almost 90,000 features for our model to take into account. Once we've constructed our baseline model, we'll need to simplify this significantly."
   ]
  },
  {
   "cell_type": "markdown",
   "id": "c75f6cd9",
   "metadata": {},
   "source": [
    "## Baseline Model\n",
    "For our baseline model, we'll use a TF-IDF vectorizer and a naive Bayes classifier. Instead of just counting the instances of each term like the frequency distribution above, the TF-IDF vectorizer will assign each token a weight that represent the importance of each term in the document being analyzed. This will be important for helping us to analyze which words are most predictive of real vs. fake news later. If a term has the highest value of all the words for one document, that would mean that it appears frequently in the document and is relatively rare in the entire corpus, making it an important term for identifying the class of document."
   ]
  },
  {
   "cell_type": "code",
   "execution_count": 18,
   "id": "189b7bee",
   "metadata": {},
   "outputs": [],
   "source": [
    "# Convert token lists to strings\n",
    "X_baseline_tokens = X_train[\"tokenized_text\"].str.join(\" \")"
   ]
  },
  {
   "cell_type": "code",
   "execution_count": 19,
   "id": "1fe5b459",
   "metadata": {},
   "outputs": [],
   "source": [
    "# instantiate, fit, and transform vectorizer\n",
    "tfidf_baseline = TfidfVectorizer()\n",
    "X_baseline_vec = tfidf_baseline.fit_transform(X_baseline_tokens)"
   ]
  },
  {
   "cell_type": "code",
   "execution_count": 20,
   "id": "1e72ab5b",
   "metadata": {},
   "outputs": [
    {
     "name": "stdout",
     "output_type": "stream",
     "text": [
      "CV scores: [0.928  0.9253 0.928  0.9286 0.933 ]\n",
      "Mean CV score: 0.9286\n"
     ]
    }
   ],
   "source": [
    "baseline_model = MultinomialNB()\n",
    "baseline_cv = cross_val_score(baseline_model, X_baseline_vec, y_train)\n",
    "print(f'CV scores: {baseline_cv.round(4)}')\n",
    "print(f'Mean CV score: {baseline_cv.mean().round(4)}')"
   ]
  },
  {
   "cell_type": "markdown",
   "id": "6d1c86cf",
   "metadata": {},
   "source": [
    "Already, the model seems to be performing well - nearly a 93% accuracy on our validation folds. However, there are still steps we can take to improve our accuracy by further cleaning our data."
   ]
  },
  {
   "cell_type": "markdown",
   "id": "ded4a993",
   "metadata": {},
   "source": [
    "### Removing Stop Words\n",
    "\"Stop words\" are commonly used words. They can pose a problem for natural language processing because they appear frequently in any document thus increasing the dimensionality of the feature set, but are insignificant for classification. Let's use NLTK's default list of stop words to begin to thin out our features."
   ]
  },
  {
   "cell_type": "code",
   "execution_count": 21,
   "id": "a1cabfc1",
   "metadata": {},
   "outputs": [],
   "source": [
    "# import stopwords list\n",
    "stopwords_list = stopwords.words('english')\n",
    "stopwords_list.append(['also', 'reuters'])\n",
    "\n",
    "# define a function to remove stopwords from a list of tokens\n",
    "def remove_stopwords(token_list):\n",
    "    \"\"\"\n",
    "    Given a list of tokens, return a list where the tokens\n",
    "    that are also present in stopwords_list have been\n",
    "    removed\n",
    "    \"\"\"\n",
    "    return [token for token in token_list if token not in stopwords_list]"
   ]
  },
  {
   "cell_type": "code",
   "execution_count": 22,
   "id": "cb825286",
   "metadata": {},
   "outputs": [],
   "source": [
    "X_train['stopwords_removed'] = X_train[\"tokenized_text\"].apply(remove_stopwords)"
   ]
  },
  {
   "cell_type": "code",
   "execution_count": 23,
   "id": "da540b9f",
   "metadata": {},
   "outputs": [
    {
     "data": {
      "text/html": [
       "<div>\n",
       "<style scoped>\n",
       "    .dataframe tbody tr th:only-of-type {\n",
       "        vertical-align: middle;\n",
       "    }\n",
       "\n",
       "    .dataframe tbody tr th {\n",
       "        vertical-align: top;\n",
       "    }\n",
       "\n",
       "    .dataframe thead th {\n",
       "        text-align: right;\n",
       "    }\n",
       "</style>\n",
       "<table border=\"1\" class=\"dataframe\">\n",
       "  <thead>\n",
       "    <tr style=\"text-align: right;\">\n",
       "      <th></th>\n",
       "      <th>title</th>\n",
       "      <th>text</th>\n",
       "      <th>tokenized_text</th>\n",
       "      <th>stopwords_removed</th>\n",
       "    </tr>\n",
       "  </thead>\n",
       "  <tbody>\n",
       "    <tr>\n",
       "      <th>13413</th>\n",
       "      <td>TRUMP DELIVERS MESSAGE TO PUTIN: “Russia, If You’re Listening…I Hope You’re Able To Find The 30,000 Emails That Are Missing” [VIDEO]</td>\n",
       "      <td>trump says he s never talked to putin and the allegation that he is working with him to expose hillary s emails is ridiculous. putin has been threatening the release of 20,000 emails from hillary s private server, and the press is trying to tie his threat to trump. unlike previous gop presidential candidates s trump s not going to sit back and allow the press to define the narrative. he s gett...</td>\n",
       "      <td>[trump, says, never, talked, putin, and, the, allegation, that, working, with, him, expose, hillary, emails, ridiculous, putin, has, been, threatening, the, release, emails, from, hillary, private, server, and, the, press, trying, tie, his, threat, trump, unlike, previous, gop, presidential, candidates, trump, not, going, sit, back, and, allow, the, press, define, the, narrative, getting, out,...</td>\n",
       "      <td>[trump, says, never, talked, putin, allegation, working, expose, hillary, emails, ridiculous, putin, threatening, release, emails, hillary, private, server, press, trying, tie, threat, trump, unlike, previous, gop, presidential, candidates, trump, going, sit, back, allow, press, define, narrative, getting, ahead, email, lie, taking, trump, style, popular, theory, explaining, attack, dnc, hack,...</td>\n",
       "    </tr>\n",
       "    <tr>\n",
       "      <th>6018</th>\n",
       "      <td>Trump says he will 'absolutely do safe zones' in Syria</td>\n",
       "      <td>washington () - u.s. president donald trump said he “will absolutely do safe zones in syria” to protect people fleeing violence there. “i’ll absolutely do safe zones in syria for the people,” trump said in an interview with abc news broadcast on wednesday. “i think that europe has made a tremendous mistake by allowing these millions of people to go into germany and various other countries,” he...</td>\n",
       "      <td>[washington, president, donald, trump, said, will, absolutely, safe, zones, syria, protect, people, fleeing, violence, there, absolutely, safe, zones, syria, for, the, people, trump, said, interview, with, abc, news, broadcast, wednesday, think, that, europe, has, made, tremendous, mistake, allowing, these, millions, people, into, germany, and, various, other, countries, said]</td>\n",
       "      <td>[washington, president, donald, trump, said, absolutely, safe, zones, syria, protect, people, fleeing, violence, absolutely, safe, zones, syria, people, trump, said, interview, abc, news, broadcast, wednesday, think, europe, made, tremendous, mistake, allowing, millions, people, germany, various, countries, said]</td>\n",
       "    </tr>\n",
       "  </tbody>\n",
       "</table>\n",
       "</div>"
      ],
      "text/plain": [
       "                                                                                                                                      title  \\\n",
       "13413  TRUMP DELIVERS MESSAGE TO PUTIN: “Russia, If You’re Listening…I Hope You’re Able To Find The 30,000 Emails That Are Missing” [VIDEO]   \n",
       "6018                                                                                 Trump says he will 'absolutely do safe zones' in Syria   \n",
       "\n",
       "                                                                                                                                                                                                                                                                                                                                                                                                                  text  \\\n",
       "13413  trump says he s never talked to putin and the allegation that he is working with him to expose hillary s emails is ridiculous. putin has been threatening the release of 20,000 emails from hillary s private server, and the press is trying to tie his threat to trump. unlike previous gop presidential candidates s trump s not going to sit back and allow the press to define the narrative. he s gett...   \n",
       "6018   washington () - u.s. president donald trump said he “will absolutely do safe zones in syria” to protect people fleeing violence there. “i’ll absolutely do safe zones in syria for the people,” trump said in an interview with abc news broadcast on wednesday. “i think that europe has made a tremendous mistake by allowing these millions of people to go into germany and various other countries,” he...   \n",
       "\n",
       "                                                                                                                                                                                                                                                                                                                                                                                                        tokenized_text  \\\n",
       "13413  [trump, says, never, talked, putin, and, the, allegation, that, working, with, him, expose, hillary, emails, ridiculous, putin, has, been, threatening, the, release, emails, from, hillary, private, server, and, the, press, trying, tie, his, threat, trump, unlike, previous, gop, presidential, candidates, trump, not, going, sit, back, and, allow, the, press, define, the, narrative, getting, out,...   \n",
       "6018                       [washington, president, donald, trump, said, will, absolutely, safe, zones, syria, protect, people, fleeing, violence, there, absolutely, safe, zones, syria, for, the, people, trump, said, interview, with, abc, news, broadcast, wednesday, think, that, europe, has, made, tremendous, mistake, allowing, these, millions, people, into, germany, and, various, other, countries, said]   \n",
       "\n",
       "                                                                                                                                                                                                                                                                                                                                                                                                     stopwords_removed  \n",
       "13413  [trump, says, never, talked, putin, allegation, working, expose, hillary, emails, ridiculous, putin, threatening, release, emails, hillary, private, server, press, trying, tie, threat, trump, unlike, previous, gop, presidential, candidates, trump, going, sit, back, allow, press, define, narrative, getting, ahead, email, lie, taking, trump, style, popular, theory, explaining, attack, dnc, hack,...  \n",
       "6018                                                                                        [washington, president, donald, trump, said, absolutely, safe, zones, syria, protect, people, fleeing, violence, absolutely, safe, zones, syria, people, trump, said, interview, abc, news, broadcast, wednesday, think, europe, made, tremendous, mistake, allowing, millions, people, germany, various, countries, said]  "
      ]
     },
     "execution_count": 23,
     "metadata": {},
     "output_type": "execute_result"
    }
   ],
   "source": [
    "X_train.head(2)"
   ]
  },
  {
   "cell_type": "code",
   "execution_count": 24,
   "id": "ef3fc298",
   "metadata": {
    "scrolled": false
   },
   "outputs": [
    {
     "data": {
      "image/png": "[encoded data removed]",
      "text/plain": [
       "<Figure size 640x480 with 1 Axes>"
      ]
     },
     "metadata": {},
     "output_type": "display_data"
    }
   ],
   "source": [
    "# Create a frequency distribution for X_train with stopwords removed\n",
    "stopwords_freq_dist = FreqDist(X_train[\"stopwords_removed\"].explode())\n",
    "\n",
    "# Plot the top 10 tokens\n",
    "visualize_top_10(stopwords_freq_dist, \"Top 10 Words - No Stop Words\")"
   ]
  },
  {
   "cell_type": "code",
   "execution_count": 25,
   "id": "c0a9ad34",
   "metadata": {},
   "outputs": [
    {
     "name": "stdout",
     "output_type": "stream",
     "text": [
      "After removing stop words, there are 7671232 tokens in the corpus,      88103 of which are unique.\n",
      "Before removing stop words, there were 10960629 tokens in the corpus,      88221 of which were unique.\n"
     ]
    }
   ],
   "source": [
    "flattened_nostopwords = pd.Series(list(itertools.chain(*X_train['stopwords_removed'])))\n",
    "print(f'After removing stop words, there are {len(flattened_nostopwords)} tokens in the corpus,\\\n",
    "      {len(flattened_nostopwords.unique())} of which are unique.')\n",
    "print(f'Before removing stop words, there were {len(flattened_Xtrain)} tokens in the corpus,\\\n",
    "      {len(flattened_Xtrain.unique())} of which were unique.')"
   ]
  },
  {
   "cell_type": "markdown",
   "id": "20b6d066",
   "metadata": {},
   "source": [
    "Without stop words included in the feature set, we can see that the most common words are now both more meaningful than those prior and are used less frequently. We can also see that we removed over 3 million words from the corpus, while only slightly reducing the dimensionality of the dataset. Let's see how this will impact our model."
   ]
  },
  {
   "cell_type": "markdown",
   "id": "720d2ff6",
   "metadata": {},
   "source": [
    "## Second Model: No Stop Words"
   ]
  },
  {
   "cell_type": "code",
   "execution_count": 26,
   "id": "7a0d8165",
   "metadata": {},
   "outputs": [],
   "source": [
    "# Convert token lists to strings\n",
    "X_nostopwords_tokens = X_train[\"stopwords_removed\"].str.join(\" \")"
   ]
  },
  {
   "cell_type": "code",
   "execution_count": 27,
   "id": "571d6654",
   "metadata": {},
   "outputs": [],
   "source": [
    "# instantiate, fit, and transform vectorizer\n",
    "tfidf_nostopwords = TfidfVectorizer()\n",
    "X_nostopwords_vec = tfidf_nostopwords.fit_transform(X_nostopwords_tokens)"
   ]
  },
  {
   "cell_type": "code",
   "execution_count": 28,
   "id": "42b13d91",
   "metadata": {},
   "outputs": [
    {
     "name": "stdout",
     "output_type": "stream",
     "text": [
      "CV scores: [0.9283 0.9252 0.9274 0.9284 0.9335]\n",
      "Mean CV score: 0.9285\n"
     ]
    }
   ],
   "source": [
    "nostopwords_model = MultinomialNB()\n",
    "nostopwords_cv = cross_val_score(nostopwords_model, X_nostopwords_vec, y_train)\n",
    "print(f'CV scores: {nostopwords_cv.round(4)}')\n",
    "print(f'Mean CV score: {nostopwords_cv.mean().round(4)}')"
   ]
  },
  {
   "cell_type": "markdown",
   "id": "37012cf9",
   "metadata": {},
   "source": [
    "The performance from the baseline didn't really change. Let's try another step to see if we can make any improvements."
   ]
  },
  {
   "cell_type": "markdown",
   "id": "3d113673",
   "metadata": {},
   "source": [
    "### Third Model: Stemming\n",
    "Lemmatization is the process of reducing a word to its root. In the context of NLP, it helps us reduce the complexity of the corpus by taking words that come from the same root (i.e. \"said\" and \"says\") and counting them as part of the same feature."
   ]
  },
  {
   "cell_type": "code",
   "execution_count": 29,
   "id": "0e56e1ee",
   "metadata": {},
   "outputs": [],
   "source": [
    "def lemmatize_text(doc):\n",
    "    \n",
    "    #initialize lemmatizer\n",
    "    wnl = WordNetLemmatizer()\n",
    "\n",
    "    # helper function to change nltk's part of speech tagging to a wordnet format.\n",
    "    def pos_tagger(nltk_tag):\n",
    "        if nltk_tag.startswith('J'):\n",
    "            return wordnet.ADJ\n",
    "        elif nltk_tag.startswith('V'):\n",
    "            return wordnet.VERB\n",
    "        elif nltk_tag.startswith('N'):\n",
    "            return wordnet.NOUN\n",
    "        elif nltk_tag.startswith('R'):\n",
    "            return wordnet.ADV\n",
    "        else:         \n",
    "            return None\n",
    "        \n",
    "    # remove stop words and punctuations, then lower case\n",
    "    basic_token_pattern = r\"(?u)\\b([a-zA-Z]{3,}|\\d{4,})\\b\"\n",
    "    tokenizer = RegexpTokenizer(basic_token_pattern)\n",
    "    doc_norm = [tok.lower() for tok in tokenizer.tokenize(doc) if ((tok.isalnum()) & (tok not in stopwords_list))]\n",
    "    \n",
    "    # creates list of tuples with tokens and POS tags in wordnet format\n",
    "    wordnet_tagged = list(map(lambda x: (x[0], pos_tagger(x[1])), pos_tag(doc_norm))) \n",
    "    \n",
    "    # lemmatizes each token based on part of speech in tuple\n",
    "    doc_norm = [wnl.lemmatize(token, pos) for token, pos in wordnet_tagged if pos is not None]\n",
    "    \n",
    "    return doc_norm"
   ]
  },
  {
   "cell_type": "code",
   "execution_count": 30,
   "id": "68c32772",
   "metadata": {},
   "outputs": [],
   "source": [
    "X_train['lemmatized'] = X_train['text'].apply(lemmatize_text)"
   ]
  },
  {
   "cell_type": "code",
   "execution_count": 31,
   "id": "a935d7d0",
   "metadata": {},
   "outputs": [
    {
     "data": {
      "text/html": [
       "<div>\n",
       "<style scoped>\n",
       "    .dataframe tbody tr th:only-of-type {\n",
       "        vertical-align: middle;\n",
       "    }\n",
       "\n",
       "    .dataframe tbody tr th {\n",
       "        vertical-align: top;\n",
       "    }\n",
       "\n",
       "    .dataframe thead th {\n",
       "        text-align: right;\n",
       "    }\n",
       "</style>\n",
       "<table border=\"1\" class=\"dataframe\">\n",
       "  <thead>\n",
       "    <tr style=\"text-align: right;\">\n",
       "      <th></th>\n",
       "      <th>title</th>\n",
       "      <th>text</th>\n",
       "      <th>tokenized_text</th>\n",
       "      <th>stopwords_removed</th>\n",
       "      <th>lemmatized</th>\n",
       "    </tr>\n",
       "  </thead>\n",
       "  <tbody>\n",
       "    <tr>\n",
       "      <th>13413</th>\n",
       "      <td>TRUMP DELIVERS MESSAGE TO PUTIN: “Russia, If You’re Listening…I Hope You’re Able To Find The 30,000 Emails That Are Missing” [VIDEO]</td>\n",
       "      <td>trump says he s never talked to putin and the allegation that he is working with him to expose hillary s emails is ridiculous. putin has been threatening the release of 20,000 emails from hillary s private server, and the press is trying to tie his threat to trump. unlike previous gop presidential candidates s trump s not going to sit back and allow the press to define the narrative. he s gett...</td>\n",
       "      <td>[trump, says, never, talked, putin, and, the, allegation, that, working, with, him, expose, hillary, emails, ridiculous, putin, has, been, threatening, the, release, emails, from, hillary, private, server, and, the, press, trying, tie, his, threat, trump, unlike, previous, gop, presidential, candidates, trump, not, going, sit, back, and, allow, the, press, define, the, narrative, getting, out,...</td>\n",
       "      <td>[trump, says, never, talked, putin, allegation, working, expose, hillary, emails, ridiculous, putin, threatening, release, emails, hillary, private, server, press, trying, tie, threat, trump, unlike, previous, gop, presidential, candidates, trump, going, sit, back, allow, press, define, narrative, getting, ahead, email, lie, taking, trump, style, popular, theory, explaining, attack, dnc, hack,...</td>\n",
       "      <td>[trump, say, never, talk, putin, allegation, work, expose, hillary, email, ridiculous, putin, threaten, release, email, hillary, private, server, press, try, tie, threat, trump, previous, gop, presidential, candidate, trump, go, sit, back, allow, press, define, narrative, get, ahead, email, lie, take, trump, style, popular, theory, explain, attack, dnc, hack, russian, attempt, embarrass, dnc, ...</td>\n",
       "    </tr>\n",
       "    <tr>\n",
       "      <th>6018</th>\n",
       "      <td>Trump says he will 'absolutely do safe zones' in Syria</td>\n",
       "      <td>washington () - u.s. president donald trump said he “will absolutely do safe zones in syria” to protect people fleeing violence there. “i’ll absolutely do safe zones in syria for the people,” trump said in an interview with abc news broadcast on wednesday. “i think that europe has made a tremendous mistake by allowing these millions of people to go into germany and various other countries,” he...</td>\n",
       "      <td>[washington, president, donald, trump, said, will, absolutely, safe, zones, syria, protect, people, fleeing, violence, there, absolutely, safe, zones, syria, for, the, people, trump, said, interview, with, abc, news, broadcast, wednesday, think, that, europe, has, made, tremendous, mistake, allowing, these, millions, people, into, germany, and, various, other, countries, said]</td>\n",
       "      <td>[washington, president, donald, trump, said, absolutely, safe, zones, syria, protect, people, fleeing, violence, absolutely, safe, zones, syria, people, trump, said, interview, abc, news, broadcast, wednesday, think, europe, made, tremendous, mistake, allowing, millions, people, germany, various, countries, said]</td>\n",
       "      <td>[washington, president, donald, trump, say, absolutely, safe, zone, syria, protect, people, flee, violence, absolutely, safe, zone, syria, people, trump, say, interview, abc, news, broadcast, wednesday, think, europe, make, tremendous, mistake, allow, million, people, germany, various, country, say]</td>\n",
       "    </tr>\n",
       "    <tr>\n",
       "      <th>21132</th>\n",
       "      <td>MUSLIM BROTHERHOOD AFFILIATE INVITED To Obama’s State Of The Union…Will This Terror Group Also Be Invited?</td>\n",
       "      <td>so in an effort to reach out to muslims living in america, we need to invite groups that are tied to terrorists? why stop at groups like cair? why not invite isis? perhaps we missed it, but we haven t seen the list of prominent christian leaders invited to obama s sotu, who will represent the worldwide mass persecution of christians as many as 25 house democrats are expected to have muslim gue...</td>\n",
       "      <td>[effort, reach, out, muslims, living, america, need, invite, groups, that, are, tied, terrorists, why, stop, groups, like, cair, why, not, invite, isis, perhaps, missed, but, haven, seen, the, list, prominent, christian, leaders, invited, obama, sotu, who, will, represent, the, worldwide, mass, persecution, christians, many, house, democrats, are, expected, have, muslim, guests, during, tuesda...</td>\n",
       "      <td>[effort, reach, muslims, living, america, need, invite, groups, tied, terrorists, stop, groups, like, cair, invite, isis, perhaps, missed, seen, list, prominent, christian, leaders, invited, obama, sotu, represent, worldwide, mass, persecution, christians, many, house, democrats, expected, muslim, guests, tuesday, night, state, union, speech, response, call, democratic, national, committee, ch...</td>\n",
       "      <td>[effort, reach, muslims, live, america, need, invite, group, tie, terrorist, stop, group, cair, invite, isi, perhaps, miss, see, list, prominent, christian, leader, invite, obama, sotu, represent, mass, persecution, christians, many, house, democrat, expect, muslim, guest, tuesday, night, state, union, speech, response, call, democratic, national, committee, chair, debbie, wasserman, schultz, ...</td>\n",
       "    </tr>\n",
       "    <tr>\n",
       "      <th>8670</th>\n",
       "      <td>Kerry says U.S. remains committed to NATO alliance, security commitments</td>\n",
       "      <td>washington () - the obama administration, like every u.s. administration since 1949, remained committed to the nato military alliance and  security commitments under the treaty, u.s. secretary of state john kerry said on thursday.  “i want our nato partner to be clear where we stand. this administration, like every single administration republican or democratic alike since 1949, remains fully ...</td>\n",
       "      <td>[washington, the, obama, administration, like, every, administration, since, 1949, remained, committed, the, nato, military, alliance, and, security, commitments, under, the, treaty, secretary, state, john, kerry, said, thursday, want, our, nato, partner, clear, where, stand, this, administration, like, every, single, administration, republican, democratic, alike, since, 1949, remains, fully, ...</td>\n",
       "      <td>[washington, obama, administration, like, every, administration, since, 1949, remained, committed, nato, military, alliance, security, commitments, treaty, secretary, state, john, kerry, said, thursday, want, nato, partner, clear, stand, administration, like, every, single, administration, republican, democratic, alike, since, 1949, remains, fully, committed, nato, alliance, security, commitme...</td>\n",
       "      <td>[washington, obama, administration, administration, remain, committed, nato, military, alliance, security, commitment, treaty, secretary, state, john, kerry, say, thursday, want, nato, partner, clear, stand, administration, single, administration, republican, democratic, alike, remain, fully, commit, nato, alliance, security, commitment, article, kerry, tell, news, conference, respond, comment...</td>\n",
       "    </tr>\n",
       "    <tr>\n",
       "      <th>5826</th>\n",
       "      <td>Trump Posed With Pastor Who Said Gays Work For The Antichrist (IMAGE)</td>\n",
       "      <td>in the days following the massacre at the pulse nightclub in orlando, donald trump has tried to claim that he is a better ally to lgbt americans than hillary clinton. trump said: hillary clinton can never claim to be a friend of the gay community as long as she continues to support immigration policies that bring islamic extremists into our country and who suppress women, gays and anyone else ...</td>\n",
       "      <td>[the, days, following, the, massacre, the, pulse, nightclub, orlando, donald, trump, has, tried, claim, that, better, ally, lgbt, americans, than, hillary, clinton, trump, said, hillary, clinton, can, never, claim, friend, the, gay, community, long, she, continues, support, immigration, policies, that, bring, islamic, extremists, into, our, country, and, who, suppress, women, gays, and, anyone...</td>\n",
       "      <td>[days, following, massacre, pulse, nightclub, orlando, donald, trump, tried, claim, better, ally, lgbt, americans, hillary, clinton, trump, said, hillary, clinton, never, claim, friend, gay, community, long, continues, support, immigration, policies, bring, islamic, extremists, country, suppress, women, gays, anyone, else, share, views, values, months, ago, trump, posed, photo, alongside, robe...</td>\n",
       "      <td>[day, follow, massacre, pulse, nightclub, orlando, donald, trump, try, claim, well, ally, lgbt, american, hillary, clinton, trump, say, hillary, clinton, never, claim, friend, gay, community, long, continue, support, immigration, policy, bring, islamic, extremist, country, suppress, woman, gays, anyone, else, share, view, value, month, ago, trump, posed, photo, robert, jeffress, right, wing, p...</td>\n",
       "    </tr>\n",
       "  </tbody>\n",
       "</table>\n",
       "</div>"
      ],
      "text/plain": [
       "                                                                                                                                      title  \\\n",
       "13413  TRUMP DELIVERS MESSAGE TO PUTIN: “Russia, If You’re Listening…I Hope You’re Able To Find The 30,000 Emails That Are Missing” [VIDEO]   \n",
       "6018                                                                                 Trump says he will 'absolutely do safe zones' in Syria   \n",
       "21132                            MUSLIM BROTHERHOOD AFFILIATE INVITED To Obama’s State Of The Union…Will This Terror Group Also Be Invited?   \n",
       "8670                                                               Kerry says U.S. remains committed to NATO alliance, security commitments   \n",
       "5826                                                                  Trump Posed With Pastor Who Said Gays Work For The Antichrist (IMAGE)   \n",
       "\n",
       "                                                                                                                                                                                                                                                                                                                                                                                                                  text  \\\n",
       "13413  trump says he s never talked to putin and the allegation that he is working with him to expose hillary s emails is ridiculous. putin has been threatening the release of 20,000 emails from hillary s private server, and the press is trying to tie his threat to trump. unlike previous gop presidential candidates s trump s not going to sit back and allow the press to define the narrative. he s gett...   \n",
       "6018   washington () - u.s. president donald trump said he “will absolutely do safe zones in syria” to protect people fleeing violence there. “i’ll absolutely do safe zones in syria for the people,” trump said in an interview with abc news broadcast on wednesday. “i think that europe has made a tremendous mistake by allowing these millions of people to go into germany and various other countries,” he...   \n",
       "21132  so in an effort to reach out to muslims living in america, we need to invite groups that are tied to terrorists? why stop at groups like cair? why not invite isis? perhaps we missed it, but we haven t seen the list of prominent christian leaders invited to obama s sotu, who will represent the worldwide mass persecution of christians as many as 25 house democrats are expected to have muslim gue...   \n",
       "8670   washington () - the obama administration, like every u.s. administration since 1949, remained committed to the nato military alliance and  security commitments under the treaty, u.s. secretary of state john kerry said on thursday.  “i want our nato partner to be clear where we stand. this administration, like every single administration republican or democratic alike since 1949, remains fully ...   \n",
       "5826   in the days following the massacre at the pulse nightclub in orlando, donald trump has tried to claim that he is a better ally to lgbt americans than hillary clinton. trump said: hillary clinton can never claim to be a friend of the gay community as long as she continues to support immigration policies that bring islamic extremists into our country and who suppress women, gays and anyone else ...   \n",
       "\n",
       "                                                                                                                                                                                                                                                                                                                                                                                                        tokenized_text  \\\n",
       "13413  [trump, says, never, talked, putin, and, the, allegation, that, working, with, him, expose, hillary, emails, ridiculous, putin, has, been, threatening, the, release, emails, from, hillary, private, server, and, the, press, trying, tie, his, threat, trump, unlike, previous, gop, presidential, candidates, trump, not, going, sit, back, and, allow, the, press, define, the, narrative, getting, out,...   \n",
       "6018                       [washington, president, donald, trump, said, will, absolutely, safe, zones, syria, protect, people, fleeing, violence, there, absolutely, safe, zones, syria, for, the, people, trump, said, interview, with, abc, news, broadcast, wednesday, think, that, europe, has, made, tremendous, mistake, allowing, these, millions, people, into, germany, and, various, other, countries, said]   \n",
       "21132  [effort, reach, out, muslims, living, america, need, invite, groups, that, are, tied, terrorists, why, stop, groups, like, cair, why, not, invite, isis, perhaps, missed, but, haven, seen, the, list, prominent, christian, leaders, invited, obama, sotu, who, will, represent, the, worldwide, mass, persecution, christians, many, house, democrats, are, expected, have, muslim, guests, during, tuesda...   \n",
       "8670   [washington, the, obama, administration, like, every, administration, since, 1949, remained, committed, the, nato, military, alliance, and, security, commitments, under, the, treaty, secretary, state, john, kerry, said, thursday, want, our, nato, partner, clear, where, stand, this, administration, like, every, single, administration, republican, democratic, alike, since, 1949, remains, fully, ...   \n",
       "5826   [the, days, following, the, massacre, the, pulse, nightclub, orlando, donald, trump, has, tried, claim, that, better, ally, lgbt, americans, than, hillary, clinton, trump, said, hillary, clinton, can, never, claim, friend, the, gay, community, long, she, continues, support, immigration, policies, that, bring, islamic, extremists, into, our, country, and, who, suppress, women, gays, and, anyone...   \n",
       "\n",
       "                                                                                                                                                                                                                                                                                                                                                                                                     stopwords_removed  \\\n",
       "13413  [trump, says, never, talked, putin, allegation, working, expose, hillary, emails, ridiculous, putin, threatening, release, emails, hillary, private, server, press, trying, tie, threat, trump, unlike, previous, gop, presidential, candidates, trump, going, sit, back, allow, press, define, narrative, getting, ahead, email, lie, taking, trump, style, popular, theory, explaining, attack, dnc, hack,...   \n",
       "6018                                                                                        [washington, president, donald, trump, said, absolutely, safe, zones, syria, protect, people, fleeing, violence, absolutely, safe, zones, syria, people, trump, said, interview, abc, news, broadcast, wednesday, think, europe, made, tremendous, mistake, allowing, millions, people, germany, various, countries, said]   \n",
       "21132  [effort, reach, muslims, living, america, need, invite, groups, tied, terrorists, stop, groups, like, cair, invite, isis, perhaps, missed, seen, list, prominent, christian, leaders, invited, obama, sotu, represent, worldwide, mass, persecution, christians, many, house, democrats, expected, muslim, guests, tuesday, night, state, union, speech, response, call, democratic, national, committee, ch...   \n",
       "8670   [washington, obama, administration, like, every, administration, since, 1949, remained, committed, nato, military, alliance, security, commitments, treaty, secretary, state, john, kerry, said, thursday, want, nato, partner, clear, stand, administration, like, every, single, administration, republican, democratic, alike, since, 1949, remains, fully, committed, nato, alliance, security, commitme...   \n",
       "5826   [days, following, massacre, pulse, nightclub, orlando, donald, trump, tried, claim, better, ally, lgbt, americans, hillary, clinton, trump, said, hillary, clinton, never, claim, friend, gay, community, long, continues, support, immigration, policies, bring, islamic, extremists, country, suppress, women, gays, anyone, else, share, views, values, months, ago, trump, posed, photo, alongside, robe...   \n",
       "\n",
       "                                                                                                                                                                                                                                                                                                                                                                                                            lemmatized  \n",
       "13413  [trump, say, never, talk, putin, allegation, work, expose, hillary, email, ridiculous, putin, threaten, release, email, hillary, private, server, press, try, tie, threat, trump, previous, gop, presidential, candidate, trump, go, sit, back, allow, press, define, narrative, get, ahead, email, lie, take, trump, style, popular, theory, explain, attack, dnc, hack, russian, attempt, embarrass, dnc, ...  \n",
       "6018                                                                                                      [washington, president, donald, trump, say, absolutely, safe, zone, syria, protect, people, flee, violence, absolutely, safe, zone, syria, people, trump, say, interview, abc, news, broadcast, wednesday, think, europe, make, tremendous, mistake, allow, million, people, germany, various, country, say]  \n",
       "21132  [effort, reach, muslims, live, america, need, invite, group, tie, terrorist, stop, group, cair, invite, isi, perhaps, miss, see, list, prominent, christian, leader, invite, obama, sotu, represent, mass, persecution, christians, many, house, democrat, expect, muslim, guest, tuesday, night, state, union, speech, response, call, democratic, national, committee, chair, debbie, wasserman, schultz, ...  \n",
       "8670   [washington, obama, administration, administration, remain, committed, nato, military, alliance, security, commitment, treaty, secretary, state, john, kerry, say, thursday, want, nato, partner, clear, stand, administration, single, administration, republican, democratic, alike, remain, fully, commit, nato, alliance, security, commitment, article, kerry, tell, news, conference, respond, comment...  \n",
       "5826   [day, follow, massacre, pulse, nightclub, orlando, donald, trump, try, claim, well, ally, lgbt, american, hillary, clinton, trump, say, hillary, clinton, never, claim, friend, gay, community, long, continue, support, immigration, policy, bring, islamic, extremist, country, suppress, woman, gays, anyone, else, share, view, value, month, ago, trump, posed, photo, robert, jeffress, right, wing, p...  "
      ]
     },
     "execution_count": 31,
     "metadata": {},
     "output_type": "execute_result"
    }
   ],
   "source": [
    "X_train.head()"
   ]
  },
  {
   "cell_type": "markdown",
   "id": "f644ed36",
   "metadata": {},
   "source": [
    "What does our list of most frequently appearing terms look like now?"
   ]
  },
  {
   "cell_type": "code",
   "execution_count": 32,
   "id": "060eff78",
   "metadata": {},
   "outputs": [
    {
     "data": {
      "image/png": "[encoded data removed]",
      "text/plain": [
       "<Figure size 640x480 with 1 Axes>"
      ]
     },
     "metadata": {},
     "output_type": "display_data"
    }
   ],
   "source": [
    "lemmatized_dist = FreqDist(X_train[\"lemmatized\"].explode())\n",
    "visualize_top_10(lemmatized_dist, \"Top 10 Words - Lemmatized\")"
   ]
  },
  {
   "cell_type": "code",
   "execution_count": 33,
   "id": "11f262e7",
   "metadata": {},
   "outputs": [
    {
     "name": "stdout",
     "output_type": "stream",
     "text": [
      "After removing stop words and lemmatizing, there are 7292388 tokens in the corpus,      77880 of which are unique.\n",
      "After removing stop words but before lemmatizing, there were 7671232 tokens in the corpus,      88103 of which are unique.\n",
      "Before removing stop words, there were 10960629 tokens in the corpus,      88221 of which were unique.\n"
     ]
    }
   ],
   "source": [
    "flattened_lemmatization = pd.Series(list(itertools.chain(*X_train['lemmatized'])))\n",
    "print(f'After removing stop words and lemmatizing, there are {len(flattened_lemmatization)} tokens in the corpus,\\\n",
    "      {len(flattened_lemmatization.unique())} of which are unique.')\n",
    "print(f'After removing stop words but before lemmatizing, there were {len(flattened_nostopwords)} tokens in the corpus,\\\n",
    "      {len(flattened_nostopwords.unique())} of which are unique.')\n",
    "print(f'Before removing stop words, there were {len(flattened_Xtrain)} tokens in the corpus,\\\n",
    "      {len(flattened_Xtrain.unique())} of which were unique.')"
   ]
  },
  {
   "cell_type": "markdown",
   "id": "8f082329",
   "metadata": {},
   "source": [
    "We succeeded in further reducing both the size of the corpus and the number of features. How will this impact our model?"
   ]
  },
  {
   "cell_type": "code",
   "execution_count": 34,
   "id": "7735d7f9",
   "metadata": {},
   "outputs": [],
   "source": [
    "# Convert token lists to strings\n",
    "X_lemm_tokens = X_train[\"lemmatized\"].str.join(\" \")"
   ]
  },
  {
   "cell_type": "code",
   "execution_count": 35,
   "id": "3e2ea07a",
   "metadata": {},
   "outputs": [],
   "source": [
    "# instantiate, fit, and transform vectorizer\n",
    "tfidf_lemm = TfidfVectorizer()\n",
    "X_lemm_vec = tfidf_lemm.fit_transform(X_lemm_tokens)"
   ]
  },
  {
   "cell_type": "code",
   "execution_count": 36,
   "id": "0a80ce7a",
   "metadata": {},
   "outputs": [
    {
     "name": "stdout",
     "output_type": "stream",
     "text": [
      "CV scores: [0.9209 0.92   0.9207 0.9246 0.9281]\n",
      "Mean CV score: 0.9228\n"
     ]
    }
   ],
   "source": [
    "lemm_model = MultinomialNB()\n",
    "lemm_cv = cross_val_score(lemm_model, X_lemm_vec, y_train)\n",
    "\n",
    "print(f'CV scores: {lemm_cv.round(4)}')\n",
    "print(f'Mean CV score: {lemm_cv.mean().round(4)}')"
   ]
  },
  {
   "cell_type": "code",
   "execution_count": 37,
   "id": "01ca0dac",
   "metadata": {},
   "outputs": [
    {
     "data": {
      "text/html": [
       "<div>\n",
       "<style scoped>\n",
       "    .dataframe tbody tr th:only-of-type {\n",
       "        vertical-align: middle;\n",
       "    }\n",
       "\n",
       "    .dataframe tbody tr th {\n",
       "        vertical-align: top;\n",
       "    }\n",
       "\n",
       "    .dataframe thead th {\n",
       "        text-align: right;\n",
       "    }\n",
       "</style>\n",
       "<table border=\"1\" class=\"dataframe\">\n",
       "  <thead>\n",
       "    <tr style=\"text-align: right;\">\n",
       "      <th></th>\n",
       "      <th>Model</th>\n",
       "      <th>Mean CV Accuracy</th>\n",
       "    </tr>\n",
       "  </thead>\n",
       "  <tbody>\n",
       "    <tr>\n",
       "      <th>0</th>\n",
       "      <td>Naive Bayes</td>\n",
       "      <td>0.9228</td>\n",
       "    </tr>\n",
       "  </tbody>\n",
       "</table>\n",
       "</div>"
      ],
      "text/plain": [
       "         Model  Mean CV Accuracy\n",
       "0  Naive Bayes            0.9228"
      ]
     },
     "execution_count": 37,
     "metadata": {},
     "output_type": "execute_result"
    }
   ],
   "source": [
    "evaluation = pd.DataFrame({'Model': [],\n",
    "                           'Mean CV Accuracy':[]})\n",
    "\n",
    "evaluation.loc[0] = ['Naive Bayes', lemm_cv.mean().round(4)]\n",
    "evaluation"
   ]
  },
  {
   "cell_type": "code",
   "execution_count": 42,
   "id": "867b4e6c",
   "metadata": {
    "scrolled": true
   },
   "outputs": [
    {
     "data": {
      "text/html": [
       "<div>\n",
       "<style scoped>\n",
       "    .dataframe tbody tr th:only-of-type {\n",
       "        vertical-align: middle;\n",
       "    }\n",
       "\n",
       "    .dataframe tbody tr th {\n",
       "        vertical-align: top;\n",
       "    }\n",
       "\n",
       "    .dataframe thead th {\n",
       "        text-align: right;\n",
       "    }\n",
       "</style>\n",
       "<table border=\"1\" class=\"dataframe\">\n",
       "  <thead>\n",
       "    <tr style=\"text-align: right;\">\n",
       "      <th></th>\n",
       "      <th>Model</th>\n",
       "      <th>Mean CV Accuracy</th>\n",
       "    </tr>\n",
       "  </thead>\n",
       "  <tbody>\n",
       "    <tr>\n",
       "      <th>0</th>\n",
       "      <td>Naive Bayes</td>\n",
       "      <td>0.9228</td>\n",
       "    </tr>\n",
       "    <tr>\n",
       "      <th>1</th>\n",
       "      <td>Logistic Reg.</td>\n",
       "      <td>0.9733</td>\n",
       "    </tr>\n",
       "    <tr>\n",
       "      <th>2</th>\n",
       "      <td>Logistic Reg.</td>\n",
       "      <td>0.9733</td>\n",
       "    </tr>\n",
       "  </tbody>\n",
       "</table>\n",
       "</div>"
      ],
      "text/plain": [
       "           Model  Mean CV Accuracy\n",
       "0    Naive Bayes            0.9228\n",
       "1  Logistic Reg.            0.9733\n",
       "2  Logistic Reg.            0.9733"
      ]
     },
     "execution_count": 42,
     "metadata": {},
     "output_type": "execute_result"
    }
   ],
   "source": [
    "lr_model = LogisticRegression()\n",
    "lr_model.fit(X_lemm_vec, y_train)\n",
    "lr_cv = cross_val_score(lr_model, X_lemm_vec, y_train)\n",
    "\n",
    "evaluation.loc[1] = ['Logistic Reg.', lr_cv.mean().round(4)]\n",
    "evaluation"
   ]
  },
  {
   "cell_type": "code",
   "execution_count": 43,
   "id": "7c03a721",
   "metadata": {},
   "outputs": [
    {
     "data": {
      "text/html": [
       "<div>\n",
       "<style scoped>\n",
       "    .dataframe tbody tr th:only-of-type {\n",
       "        vertical-align: middle;\n",
       "    }\n",
       "\n",
       "    .dataframe tbody tr th {\n",
       "        vertical-align: top;\n",
       "    }\n",
       "\n",
       "    .dataframe thead th {\n",
       "        text-align: right;\n",
       "    }\n",
       "</style>\n",
       "<table border=\"1\" class=\"dataframe\">\n",
       "  <thead>\n",
       "    <tr style=\"text-align: right;\">\n",
       "      <th></th>\n",
       "      <th>Model</th>\n",
       "      <th>Mean CV Accuracy</th>\n",
       "    </tr>\n",
       "  </thead>\n",
       "  <tbody>\n",
       "    <tr>\n",
       "      <th>0</th>\n",
       "      <td>Naive Bayes</td>\n",
       "      <td>0.9228</td>\n",
       "    </tr>\n",
       "    <tr>\n",
       "      <th>1</th>\n",
       "      <td>Logistic Reg.</td>\n",
       "      <td>0.9733</td>\n",
       "    </tr>\n",
       "    <tr>\n",
       "      <th>2</th>\n",
       "      <td>SVC</td>\n",
       "      <td>0.9830</td>\n",
       "    </tr>\n",
       "  </tbody>\n",
       "</table>\n",
       "</div>"
      ],
      "text/plain": [
       "           Model  Mean CV Accuracy\n",
       "0    Naive Bayes            0.9228\n",
       "1  Logistic Reg.            0.9733\n",
       "2            SVC            0.9830"
      ]
     },
     "execution_count": 43,
     "metadata": {},
     "output_type": "execute_result"
    }
   ],
   "source": [
    "svc_model = LinearSVC()\n",
    "svc_model.fit(X_lemm_vec, y_train)\n",
    "svc_cv = cross_val_score(svc_model, X_lemm_vec, y_train)\n",
    "\n",
    "evaluation.loc[2] = ['SVC', svc_cv.mean().round(4)]\n",
    "evaluation"
   ]
  },
  {
   "cell_type": "code",
   "execution_count": 44,
   "id": "ea736c03",
   "metadata": {},
   "outputs": [
    {
     "data": {
      "text/html": [
       "<div>\n",
       "<style scoped>\n",
       "    .dataframe tbody tr th:only-of-type {\n",
       "        vertical-align: middle;\n",
       "    }\n",
       "\n",
       "    .dataframe tbody tr th {\n",
       "        vertical-align: top;\n",
       "    }\n",
       "\n",
       "    .dataframe thead th {\n",
       "        text-align: right;\n",
       "    }\n",
       "</style>\n",
       "<table border=\"1\" class=\"dataframe\">\n",
       "  <thead>\n",
       "    <tr style=\"text-align: right;\">\n",
       "      <th></th>\n",
       "      <th>Model</th>\n",
       "      <th>Mean CV Accuracy</th>\n",
       "    </tr>\n",
       "  </thead>\n",
       "  <tbody>\n",
       "    <tr>\n",
       "      <th>0</th>\n",
       "      <td>Naive Bayes</td>\n",
       "      <td>0.9228</td>\n",
       "    </tr>\n",
       "    <tr>\n",
       "      <th>1</th>\n",
       "      <td>Logistic Reg.</td>\n",
       "      <td>0.9733</td>\n",
       "    </tr>\n",
       "    <tr>\n",
       "      <th>2</th>\n",
       "      <td>SVC</td>\n",
       "      <td>0.9830</td>\n",
       "    </tr>\n",
       "    <tr>\n",
       "      <th>3</th>\n",
       "      <td>Random Forest</td>\n",
       "      <td>0.9708</td>\n",
       "    </tr>\n",
       "  </tbody>\n",
       "</table>\n",
       "</div>"
      ],
      "text/plain": [
       "           Model  Mean CV Accuracy\n",
       "0    Naive Bayes            0.9228\n",
       "1  Logistic Reg.            0.9733\n",
       "2            SVC            0.9830\n",
       "3  Random Forest            0.9708"
      ]
     },
     "execution_count": 44,
     "metadata": {},
     "output_type": "execute_result"
    }
   ],
   "source": [
    "rf_model = RandomForestClassifier()\n",
    "rf_model.fit(X_lemm_vec, y_train)\n",
    "rf_cv = cross_val_score(rf_model, X_lemm_vec, y_train)\n",
    "\n",
    "evaluation.loc[3] = ['Random Forest', rf_cv.mean().round(4)]\n",
    "evaluation"
   ]
  },
  {
   "cell_type": "code",
   "execution_count": null,
   "id": "ee22fed3",
   "metadata": {},
   "outputs": [],
   "source": [
    "X_test['lemmatized'] = X_test['text'].apply(lemmatize_text)"
   ]
  },
  {
   "cell_type": "code",
   "execution_count": null,
   "id": "997aa7bc",
   "metadata": {},
   "outputs": [],
   "source": [
    "# Convert token lists to strings\n",
    "X_test_lemm_tokens = X_test[\"lemmatized\"].str.join(\" \")\n",
    "X_test_lemm_vec = tfidf_lemm.transform(X_test_lemm_tokens)\n",
    "svc_model.score(X_test_lemm_vec, y_test)"
   ]
  },
  {
   "cell_type": "code",
   "execution_count": null,
   "id": "bde8c370",
   "metadata": {},
   "outputs": [],
   "source": [
    "def evaluate_models(X, y):\n",
    "    evaluation = pd.DataFrame({'Model': [],\n",
    "                           'Accuracy':[]})\n",
    "    models = [XGBoostClassifier(X, y), LinearSVC(X, y), MultinomialNB(X, y), LogisticRegression(X, y), RandomForestClassifier(X, y)]\n",
    "    eval_index = 0\n",
    "    for model in models:\n",
    "        "
   ]
  }
 ],
 "metadata": {
  "kernelspec": {
   "display_name": "gobills",
   "language": "python",
   "name": "gobills"
  },
  "language_info": {
   "codemirror_mode": {
    "name": "ipython",
    "version": 3
   },
   "file_extension": ".py",
   "mimetype": "text/x-python",
   "name": "python",
   "nbconvert_exporter": "python",
   "pygments_lexer": "ipython3",
   "version": "3.8.16"
  }
 },
 "nbformat": 4,
 "nbformat_minor": 5
}
